{
 "cells": [
  {
   "cell_type": "markdown",
   "metadata": {},
   "source": [
    "# Multinomial Naive Bayes"
   ]
  },
  {
   "cell_type": "markdown",
   "metadata": {},
   "source": [
    "## Modelo 1 - Frequency of words"
   ]
  },
  {
   "cell_type": "markdown",
   "metadata": {},
   "source": [
    "##### Imports"
   ]
  },
  {
   "cell_type": "code",
   "execution_count": null,
   "metadata": {},
   "outputs": [],
   "source": [
    "import pandas as pd\n",
    "import matplotlib.pyplot as plt\n",
    "import seaborn as sns\n",
    "import numpy as np\n",
    "import feather\n",
    "\n",
    "from sklearn.model_selection import cross_val_score\n",
    "from sklearn.metrics import classification_report, confusion_matrix\n",
    "from sklearn.naive_bayes import MultinomialNB\n",
    "from sklearn.metrics import accuracy_score\n",
    "from sklearn.model_selection import train_test_split\n",
    "from tqdm import tqdm\n",
    "from sklearn.model_selection import GridSearchCV\n",
    "from sklearn.feature_selection import SelectPercentile, f_classif"
   ]
  },
  {
   "cell_type": "markdown",
   "metadata": {},
   "source": [
    "#### Read FTR"
   ]
  },
  {
   "cell_type": "code",
   "execution_count": null,
   "metadata": {},
   "outputs": [],
   "source": [
    "#read ftr\n",
    "train_m1 = pd.read_feather( '../dataset/train_m1.ftr', columns=None, use_threads=True)"
   ]
  },
  {
   "cell_type": "code",
   "execution_count": null,
   "metadata": {},
   "outputs": [],
   "source": [
    "train_m1 = train_m1.drop(columns=['level_0'])\n",
    "train_m1.head()"
   ]
  },
  {
   "cell_type": "code",
   "execution_count": null,
   "metadata": {},
   "outputs": [],
   "source": [
    "#read ftr\n",
    "test_m1 = pd.read_feather( '../dataset/test_m1.ftr', columns=None, use_threads=True)"
   ]
  },
  {
   "cell_type": "code",
   "execution_count": null,
   "metadata": {},
   "outputs": [],
   "source": [
    "test_m1 = test_m1.drop(columns=['level_0'])\n",
    "test_m1.head()"
   ]
  },
  {
   "cell_type": "code",
   "execution_count": null,
   "metadata": {},
   "outputs": [],
   "source": [
    "#get target\n",
    "train_m1_target = train_m1['polarityClass']\n",
    "train_m1 = train_m1.drop(columns=['polarityClass']) "
   ]
  },
  {
   "cell_type": "code",
   "execution_count": null,
   "metadata": {},
   "outputs": [],
   "source": [
    "#get target\n",
    "test_m1_target = test_m1['polarityClass']\n",
    "test_m1 = test_m1.drop(columns=['polarityClass']) "
   ]
  },
  {
   "cell_type": "markdown",
   "metadata": {},
   "source": [
    "### Hyperparameter tuning using GridSearchCV"
   ]
  },
  {
   "cell_type": "code",
   "execution_count": null,
   "metadata": {},
   "outputs": [],
   "source": [
    "# Create the parameter grid based on the results of random search \n",
    "parameters = {\n",
    "    'alpha': [0,1],\n",
    "}\n",
    "\n",
    "# Create the model\n",
    "naive_bayes_model = MultinomialNB()\n",
    "\n",
    "# Best model\n",
    "opt_model_nb = GridSearchCV(naive_bayes_model, parameters,  scoring='accuracy', verbose=1)\n",
    "\n",
    "# Fit the model\n",
    "opt_model_nb.fit(train_m1, train_m1_target)\n",
    "\n",
    "print (opt_model_nb.best_estimator_)"
   ]
  },
  {
   "cell_type": "markdown",
   "metadata": {},
   "source": [
    "### Create and fit the model"
   ]
  },
  {
   "cell_type": "code",
   "execution_count": null,
   "metadata": {},
   "outputs": [],
   "source": [
    "# Create model with best parameters\n",
    "naive_bayes_model = MultinomialNB(alpha=1)\n",
    "\n",
    "# Fit the best model\n",
    "naive_bayes_model.fit(train_m1, train_m1_target)\n",
    "naive_bayes_model"
   ]
  },
  {
   "cell_type": "code",
   "execution_count": null,
   "metadata": {
    "scrolled": true
   },
   "outputs": [],
   "source": [
    "predictions = naive_bayes_model.predict(test_m1)# Calculate the absolute errors\n",
    "\n",
    "# Confusion matrix\n",
    "confusion = pd.crosstab(test_m1_target,predictions, rownames=['Actual'], colnames=['Predicted'], margins=True)\n",
    "print(confusion )"
   ]
  },
  {
   "cell_type": "code",
   "execution_count": null,
   "metadata": {
    "scrolled": true
   },
   "outputs": [],
   "source": [
    "# Accuracy\n",
    "score = accuracy_score(test_m1_target,predictions)\n",
    "print('Accuracy:{0:f}'.format(score))"
   ]
  },
  {
   "cell_type": "code",
   "execution_count": null,
   "metadata": {},
   "outputs": [],
   "source": [
    "# Report\n",
    "print(classification_report(test_m1_target,predictions))"
   ]
  },
  {
   "cell_type": "code",
   "execution_count": null,
   "metadata": {},
   "outputs": [],
   "source": [
    "# Validate model using best model and cross validation\n",
    "pecc_mnb = cross_val_score(naive_bayes_model, train_m1, train_m1_target, cv = 5).mean()\n",
    "pecc_mnb"
   ]
  },
  {
   "cell_type": "markdown",
   "metadata": {},
   "source": [
    "## Modelo 2 - Existence of words"
   ]
  },
  {
   "cell_type": "markdown",
   "metadata": {},
   "source": [
    "#### Read FTR"
   ]
  },
  {
   "cell_type": "code",
   "execution_count": null,
   "metadata": {},
   "outputs": [],
   "source": [
    "#read ftr\n",
    "train_m2 = pd.read_feather( '../dataset/train_m2.ftr', columns=None, use_threads=True)"
   ]
  },
  {
   "cell_type": "code",
   "execution_count": null,
   "metadata": {},
   "outputs": [],
   "source": [
    "train_m2 = train_m2.drop(columns=['level_0'])\n",
    "train_m2.head()"
   ]
  },
  {
   "cell_type": "code",
   "execution_count": null,
   "metadata": {},
   "outputs": [],
   "source": [
    "#read ftr\n",
    "test_m2 = pd.read_feather( '../dataset/test_m2.ftr', columns=None, use_threads=True)"
   ]
  },
  {
   "cell_type": "code",
   "execution_count": null,
   "metadata": {},
   "outputs": [],
   "source": [
    "test_m2 = test_m2.drop(columns=['level_0'])\n",
    "test_m2.head()"
   ]
  },
  {
   "cell_type": "code",
   "execution_count": null,
   "metadata": {},
   "outputs": [],
   "source": [
    "#get target\n",
    "train_m2_target = train_m2['polarityClass']\n",
    "train_m2 = train_m2.drop(columns=['polarityClass']) "
   ]
  },
  {
   "cell_type": "code",
   "execution_count": null,
   "metadata": {},
   "outputs": [],
   "source": [
    "#get target\n",
    "test_m2_target = test_m2['polarityClass']\n",
    "test_m2 = test_m2.drop(columns=['polarityClass']) "
   ]
  },
  {
   "cell_type": "markdown",
   "metadata": {},
   "source": [
    "### Hyperparameter tuning using GridSearchCV"
   ]
  },
  {
   "cell_type": "code",
   "execution_count": null,
   "metadata": {},
   "outputs": [],
   "source": [
    "# Create the parameter grid based on the results of random search \n",
    "parameters = {\n",
    "    'alpha': [0,1],\n",
    "}\n",
    "\n",
    "# Create the model\n",
    "naive_bayes_model = MultinomialNB()\n",
    "\n",
    "# Best model\n",
    "opt_model_nb = GridSearchCV(naive_bayes_model, parameters,  scoring='accuracy', verbose=1)\n",
    "\n",
    "# Fit the model\n",
    "opt_model_nb.fit(train_m2, train_m2_target)\n",
    "\n",
    "print (opt_model_nb.best_estimator_)"
   ]
  },
  {
   "cell_type": "markdown",
   "metadata": {},
   "source": [
    "### Create and fit the model"
   ]
  },
  {
   "cell_type": "code",
   "execution_count": null,
   "metadata": {},
   "outputs": [],
   "source": [
    "# Create model with best parameters\n",
    "naive_bayes_model = MultinomialNB(alpha=1)\n",
    "\n",
    "# Fit the best model\n",
    "naive_bayes_model.fit(train_m2, train_m2_target)\n",
    "naive_bayes_model"
   ]
  },
  {
   "cell_type": "code",
   "execution_count": null,
   "metadata": {},
   "outputs": [],
   "source": [
    "predictions = naive_bayes_model.predict(test_m2)# Calculate the absolute errors\n",
    "\n",
    "# Confusion matrix\n",
    "confusion = pd.crosstab(test_m2_target,predictions, rownames=['Actual'], colnames=['Predicted'], margins=True)\n",
    "print(confusion )"
   ]
  },
  {
   "cell_type": "code",
   "execution_count": null,
   "metadata": {},
   "outputs": [],
   "source": [
    "# Accuracy\n",
    "score = accuracy_score(test_m2_target,predictions)\n",
    "print('Accuracy:{0:f}'.format(score))"
   ]
  },
  {
   "cell_type": "code",
   "execution_count": null,
   "metadata": {},
   "outputs": [],
   "source": [
    "# Report\n",
    "print(classification_report(test_m2_target,predictions))"
   ]
  },
  {
   "cell_type": "code",
   "execution_count": null,
   "metadata": {},
   "outputs": [],
   "source": [
    "# Validate model using best model and cross validation\n",
    "pecc_mnb = cross_val_score(naive_bayes_model, train_m2, train_m2_target, cv = 5).mean()\n",
    "pecc_mnb"
   ]
  }
 ],
 "metadata": {
  "kernelspec": {
   "display_name": "Python 3",
   "language": "python",
   "name": "python3"
  },
  "language_info": {
   "codemirror_mode": {
    "name": "ipython",
    "version": 3
   },
   "file_extension": ".py",
   "mimetype": "text/x-python",
   "name": "python",
   "nbconvert_exporter": "python",
   "pygments_lexer": "ipython3",
   "version": "3.8.5"
  }
 },
 "nbformat": 4,
 "nbformat_minor": 4
}
