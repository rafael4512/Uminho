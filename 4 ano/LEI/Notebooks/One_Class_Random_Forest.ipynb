{
 "cells": [
  {
   "cell_type": "markdown",
   "metadata": {},
   "source": [
    "# One-Class Random Forest"
   ]
  },
  {
   "cell_type": "markdown",
   "metadata": {},
   "source": [
    "### Modelo 1 - Frequency of words"
   ]
  },
  {
   "cell_type": "markdown",
   "metadata": {},
   "source": [
    "##### Imports"
   ]
  },
  {
   "cell_type": "code",
   "execution_count": 2,
   "metadata": {},
   "outputs": [],
   "source": [
    "import pandas as pd\n",
    "import matplotlib.pyplot as plt\n",
    "import seaborn as sns\n",
    "import numpy as np\n",
    "import feather\n",
    "\n",
    "from sklearn.model_selection import cross_val_score\n",
    "from sklearn.metrics import classification_report, confusion_matrix\n",
    "from sklearn.ensemble import RandomForestClassifier\n",
    "from sklearn.metrics import accuracy_score\n",
    "from sklearn.model_selection import train_test_split\n",
    "from tqdm import tqdm\n",
    "from sklearn.model_selection import GridSearchCV\n",
    "from sklearn.feature_selection import SelectPercentile, f_classif"
   ]
  },
  {
   "cell_type": "markdown",
   "metadata": {},
   "source": [
    "#### Read FTR"
   ]
  },
  {
   "cell_type": "code",
   "execution_count": 3,
   "metadata": {},
   "outputs": [],
   "source": [
    "#read ftr\n",
    "data = pd.read_feather( '../output/dataframe1.ftr', columns=None, use_threads=True)"
   ]
  },
  {
   "cell_type": "code",
   "execution_count": 4,
   "metadata": {},
   "outputs": [
    {
     "data": {
      "text/html": [
       "<div>\n",
       "<style scoped>\n",
       "    .dataframe tbody tr th:only-of-type {\n",
       "        vertical-align: middle;\n",
       "    }\n",
       "\n",
       "    .dataframe tbody tr th {\n",
       "        vertical-align: top;\n",
       "    }\n",
       "\n",
       "    .dataframe thead th {\n",
       "        text-align: right;\n",
       "    }\n",
       "</style>\n",
       "<table border=\"1\" class=\"dataframe\">\n",
       "  <thead>\n",
       "    <tr style=\"text-align: right;\">\n",
       "      <th></th>\n",
       "      <th>like</th>\n",
       "      <th>good</th>\n",
       "      <th>one</th>\n",
       "      <th>taste</th>\n",
       "      <th>great</th>\n",
       "      <th>coffee</th>\n",
       "      <th>flavor</th>\n",
       "      <th>tea</th>\n",
       "      <th>product</th>\n",
       "      <th>love</th>\n",
       "      <th>...</th>\n",
       "      <th>maxes</th>\n",
       "      <th>pliers</th>\n",
       "      <th>offshoot</th>\n",
       "      <th>distinctively</th>\n",
       "      <th>brilliance</th>\n",
       "      <th>auspices</th>\n",
       "      <th>synonyms</th>\n",
       "      <th>cowards</th>\n",
       "      <th>lofted</th>\n",
       "      <th>parachute</th>\n",
       "    </tr>\n",
       "  </thead>\n",
       "  <tbody>\n",
       "    <tr>\n",
       "      <th>0</th>\n",
       "      <td>0</td>\n",
       "      <td>0</td>\n",
       "      <td>0</td>\n",
       "      <td>0</td>\n",
       "      <td>0</td>\n",
       "      <td>0</td>\n",
       "      <td>0</td>\n",
       "      <td>0</td>\n",
       "      <td>0</td>\n",
       "      <td>0</td>\n",
       "      <td>...</td>\n",
       "      <td>0</td>\n",
       "      <td>0</td>\n",
       "      <td>0</td>\n",
       "      <td>0</td>\n",
       "      <td>0</td>\n",
       "      <td>0</td>\n",
       "      <td>0</td>\n",
       "      <td>0</td>\n",
       "      <td>0</td>\n",
       "      <td>0</td>\n",
       "    </tr>\n",
       "    <tr>\n",
       "      <th>1</th>\n",
       "      <td>0</td>\n",
       "      <td>0</td>\n",
       "      <td>0</td>\n",
       "      <td>3</td>\n",
       "      <td>0</td>\n",
       "      <td>0</td>\n",
       "      <td>0</td>\n",
       "      <td>0</td>\n",
       "      <td>1</td>\n",
       "      <td>1</td>\n",
       "      <td>...</td>\n",
       "      <td>0</td>\n",
       "      <td>0</td>\n",
       "      <td>0</td>\n",
       "      <td>0</td>\n",
       "      <td>0</td>\n",
       "      <td>0</td>\n",
       "      <td>0</td>\n",
       "      <td>0</td>\n",
       "      <td>0</td>\n",
       "      <td>0</td>\n",
       "    </tr>\n",
       "    <tr>\n",
       "      <th>2</th>\n",
       "      <td>0</td>\n",
       "      <td>1</td>\n",
       "      <td>0</td>\n",
       "      <td>0</td>\n",
       "      <td>0</td>\n",
       "      <td>0</td>\n",
       "      <td>0</td>\n",
       "      <td>3</td>\n",
       "      <td>1</td>\n",
       "      <td>1</td>\n",
       "      <td>...</td>\n",
       "      <td>0</td>\n",
       "      <td>0</td>\n",
       "      <td>0</td>\n",
       "      <td>0</td>\n",
       "      <td>0</td>\n",
       "      <td>0</td>\n",
       "      <td>0</td>\n",
       "      <td>0</td>\n",
       "      <td>0</td>\n",
       "      <td>0</td>\n",
       "    </tr>\n",
       "    <tr>\n",
       "      <th>3</th>\n",
       "      <td>0</td>\n",
       "      <td>0</td>\n",
       "      <td>0</td>\n",
       "      <td>0</td>\n",
       "      <td>1</td>\n",
       "      <td>0</td>\n",
       "      <td>0</td>\n",
       "      <td>0</td>\n",
       "      <td>1</td>\n",
       "      <td>0</td>\n",
       "      <td>...</td>\n",
       "      <td>0</td>\n",
       "      <td>0</td>\n",
       "      <td>0</td>\n",
       "      <td>0</td>\n",
       "      <td>0</td>\n",
       "      <td>0</td>\n",
       "      <td>0</td>\n",
       "      <td>0</td>\n",
       "      <td>0</td>\n",
       "      <td>0</td>\n",
       "    </tr>\n",
       "    <tr>\n",
       "      <th>4</th>\n",
       "      <td>2</td>\n",
       "      <td>0</td>\n",
       "      <td>0</td>\n",
       "      <td>0</td>\n",
       "      <td>2</td>\n",
       "      <td>1</td>\n",
       "      <td>0</td>\n",
       "      <td>0</td>\n",
       "      <td>0</td>\n",
       "      <td>0</td>\n",
       "      <td>...</td>\n",
       "      <td>0</td>\n",
       "      <td>0</td>\n",
       "      <td>0</td>\n",
       "      <td>0</td>\n",
       "      <td>0</td>\n",
       "      <td>0</td>\n",
       "      <td>0</td>\n",
       "      <td>0</td>\n",
       "      <td>0</td>\n",
       "      <td>0</td>\n",
       "    </tr>\n",
       "  </tbody>\n",
       "</table>\n",
       "<p>5 rows × 26701 columns</p>\n",
       "</div>"
      ],
      "text/plain": [
       "   like  good  one  taste  great  coffee  flavor  tea  product  love  ...  \\\n",
       "0     0     0    0      0      0       0       0    0        0     0  ...   \n",
       "1     0     0    0      3      0       0       0    0        1     1  ...   \n",
       "2     0     1    0      0      0       0       0    3        1     1  ...   \n",
       "3     0     0    0      0      1       0       0    0        1     0  ...   \n",
       "4     2     0    0      0      2       1       0    0        0     0  ...   \n",
       "\n",
       "   maxes  pliers  offshoot  distinctively  brilliance  auspices  synonyms  \\\n",
       "0      0       0         0              0           0         0         0   \n",
       "1      0       0         0              0           0         0         0   \n",
       "2      0       0         0              0           0         0         0   \n",
       "3      0       0         0              0           0         0         0   \n",
       "4      0       0         0              0           0         0         0   \n",
       "\n",
       "   cowards  lofted  parachute  \n",
       "0        0       0          0  \n",
       "1        0       0          0  \n",
       "2        0       0          0  \n",
       "3        0       0          0  \n",
       "4        0       0          0  \n",
       "\n",
       "[5 rows x 26701 columns]"
      ]
     },
     "execution_count": 4,
     "metadata": {},
     "output_type": "execute_result"
    }
   ],
   "source": [
    "data_y = data['polarityClass']\n",
    "data = data.drop(columns=['polarityClass']) \n",
    "data.head()"
   ]
  },
  {
   "cell_type": "code",
   "execution_count": 5,
   "metadata": {},
   "outputs": [],
   "source": [
    "trainX, testX, trainy, testy = train_test_split(data, data_y, test_size=0.3, random_state=2)"
   ]
  },
  {
   "cell_type": "code",
   "execution_count": 6,
   "metadata": {},
   "outputs": [
    {
     "data": {
      "text/plain": [
       "dtype('uint8')"
      ]
     },
     "execution_count": 6,
     "metadata": {},
     "output_type": "execute_result"
    }
   ],
   "source": [
    "testy.dtypes"
   ]
  },
  {
   "cell_type": "code",
   "execution_count": 7,
   "metadata": {},
   "outputs": [
    {
     "name": "stdout",
     "output_type": "stream",
     "text": [
      "int8\n"
     ]
    }
   ],
   "source": [
    "trainy = trainy.astype('int8')\n",
    "print(trainy.dtypes)"
   ]
  },
  {
   "cell_type": "code",
   "execution_count": 8,
   "metadata": {},
   "outputs": [
    {
     "name": "stdout",
     "output_type": "stream",
     "text": [
      "int8\n"
     ]
    }
   ],
   "source": [
    "testy = testy.astype('int8')\n",
    "print(testy.dtypes)"
   ]
  },
  {
   "cell_type": "code",
   "execution_count": 9,
   "metadata": {},
   "outputs": [],
   "source": [
    "trainy[trainy != 0] = -1 #anomaly\n",
    "trainy[trainy == 0] = 1 #normal\n",
    "\n",
    "testy[testy != 0] = -1 #anomaly\n",
    "testy[testy == 0] = 1 #normal"
   ]
  },
  {
   "cell_type": "code",
   "execution_count": 10,
   "metadata": {},
   "outputs": [
    {
     "data": {
      "text/plain": [
       "-1    12832\n",
       " 1     2041\n",
       "Name: polarityClass, dtype: int64"
      ]
     },
     "execution_count": 10,
     "metadata": {},
     "output_type": "execute_result"
    }
   ],
   "source": [
    "testy.value_counts()"
   ]
  },
  {
   "cell_type": "code",
   "execution_count": 11,
   "metadata": {},
   "outputs": [
    {
     "data": {
      "text/plain": [
       "-1    30021\n",
       " 1     4682\n",
       "Name: polarityClass, dtype: int64"
      ]
     },
     "execution_count": 11,
     "metadata": {},
     "output_type": "execute_result"
    }
   ],
   "source": [
    "trainy.value_counts()"
   ]
  },
  {
   "cell_type": "markdown",
   "metadata": {},
   "source": [
    "### Check for lower errors"
   ]
  },
  {
   "cell_type": "code",
   "execution_count": 12,
   "metadata": {},
   "outputs": [
    {
     "name": "stderr",
     "output_type": "stream",
     "text": [
      "100%|█████████████████████████████████████████████████████████████████████████████| 149/149 [6:32:25<00:00, 158.02s/it]\n"
     ]
    }
   ],
   "source": [
    "error_rate = []\n",
    "\n",
    "for i in tqdm(range(1,150)):\n",
    "    clf = RandomForestClassifier(max_depth=i, random_state=0)\n",
    "    clf.fit(trainX,trainy)\n",
    "    predictions = clf.predict(testX)\n",
    "    error_rate.append(np.mean(predictions != testy))"
   ]
  },
  {
   "cell_type": "code",
   "execution_count": 13,
   "metadata": {},
   "outputs": [
    {
     "data": {
      "text/plain": [
       "Text(0, 0.5, 'Error Rate')"
      ]
     },
     "execution_count": 13,
     "metadata": {},
     "output_type": "execute_result"
    },
    {
     "data": {
      "image/png": "[encoded data removed]",
      "text/plain": [
       "<Figure size 1440x432 with 1 Axes>"
      ]
     },
     "metadata": {
      "needs_background": "light"
     },
     "output_type": "display_data"
    }
   ],
   "source": [
    "plt.figure(figsize=(20,6))\n",
    "plt.plot(range(1,150),error_rate,color='blue',linestyle='dashed',marker='o',markerfacecolor='red',markersize=10)\n",
    "plt.title('Error Rate vs DepthValue')\n",
    "plt.xlabel(\"depth\")\n",
    "plt.ylabel(\"Error Rate\")"
   ]
  },
  {
   "cell_type": "markdown",
   "metadata": {},
   "source": [
    "### Hyperparameter tuning using GridSearchCV"
   ]
  },
  {
   "cell_type": "code",
   "execution_count": 15,
   "metadata": {},
   "outputs": [
    {
     "name": "stdout",
     "output_type": "stream",
     "text": [
      "Fitting 5 folds for each of 72 candidates, totalling 360 fits\n",
      "[CV 1/5; 1/72] START bootstrap=True, max_depth=139, max_features=2, min_samples_leaf=3, min_samples_split=8, n_estimators=100\n",
      "[CV 1/5; 1/72] END bootstrap=True, max_depth=139, max_features=2, min_samples_leaf=3, min_samples_split=8, n_estimators=100; total time=   6.6s\n",
      "[CV 2/5; 1/72] START bootstrap=True, max_depth=139, max_features=2, min_samples_leaf=3, min_samples_split=8, n_estimators=100\n",
      "[CV 2/5; 1/72] END bootstrap=True, max_depth=139, max_features=2, min_samples_leaf=3, min_samples_split=8, n_estimators=100; total time=   6.5s\n",
      "[CV 3/5; 1/72] START bootstrap=True, max_depth=139, max_features=2, min_samples_leaf=3, min_samples_split=8, n_estimators=100\n",
      "[CV 3/5; 1/72] END bootstrap=True, max_depth=139, max_features=2, min_samples_leaf=3, min_samples_split=8, n_estimators=100; total time=   6.6s\n",
      "[CV 4/5; 1/72] START bootstrap=True, max_depth=139, max_features=2, min_samples_leaf=3, min_samples_split=8, n_estimators=100\n",
      "[CV 4/5; 1/72] END bootstrap=True, max_depth=139, max_features=2, min_samples_leaf=3, min_samples_split=8, n_estimators=100; total time=   6.8s\n",
      "[CV 5/5; 1/72] START bootstrap=True, max_depth=139, max_features=2, min_samples_leaf=3, min_samples_split=8, n_estimators=100\n",
      "[CV 5/5; 1/72] END bootstrap=True, max_depth=139, max_features=2, min_samples_leaf=3, min_samples_split=8, n_estimators=100; total time=   7.2s\n",
      "[CV 1/5; 2/72] START bootstrap=True, max_depth=139, max_features=2, min_samples_leaf=3, min_samples_split=8, n_estimators=200\n",
      "[CV 1/5; 2/72] END bootstrap=True, max_depth=139, max_features=2, min_samples_leaf=3, min_samples_split=8, n_estimators=200; total time=   7.1s\n",
      "[CV 2/5; 2/72] START bootstrap=True, max_depth=139, max_features=2, min_samples_leaf=3, min_samples_split=8, n_estimators=200\n",
      "[CV 2/5; 2/72] END bootstrap=True, max_depth=139, max_features=2, min_samples_leaf=3, min_samples_split=8, n_estimators=200; total time=   7.6s\n",
      "[CV 3/5; 2/72] START bootstrap=True, max_depth=139, max_features=2, min_samples_leaf=3, min_samples_split=8, n_estimators=200\n",
      "[CV 3/5; 2/72] END bootstrap=True, max_depth=139, max_features=2, min_samples_leaf=3, min_samples_split=8, n_estimators=200; total time=   7.7s\n",
      "[CV 4/5; 2/72] START bootstrap=True, max_depth=139, max_features=2, min_samples_leaf=3, min_samples_split=8, n_estimators=200\n",
      "[CV 4/5; 2/72] END bootstrap=True, max_depth=139, max_features=2, min_samples_leaf=3, min_samples_split=8, n_estimators=200; total time=   8.2s\n",
      "[CV 5/5; 2/72] START bootstrap=True, max_depth=139, max_features=2, min_samples_leaf=3, min_samples_split=8, n_estimators=200\n",
      "[CV 5/5; 2/72] END bootstrap=True, max_depth=139, max_features=2, min_samples_leaf=3, min_samples_split=8, n_estimators=200; total time=   8.4s\n",
      "[CV 1/5; 3/72] START bootstrap=True, max_depth=139, max_features=2, min_samples_leaf=3, min_samples_split=8, n_estimators=300\n",
      "[CV 1/5; 3/72] END bootstrap=True, max_depth=139, max_features=2, min_samples_leaf=3, min_samples_split=8, n_estimators=300; total time=   8.8s\n",
      "[CV 2/5; 3/72] START bootstrap=True, max_depth=139, max_features=2, min_samples_leaf=3, min_samples_split=8, n_estimators=300\n",
      "[CV 2/5; 3/72] END bootstrap=True, max_depth=139, max_features=2, min_samples_leaf=3, min_samples_split=8, n_estimators=300; total time=   9.3s\n",
      "[CV 3/5; 3/72] START bootstrap=True, max_depth=139, max_features=2, min_samples_leaf=3, min_samples_split=8, n_estimators=300\n",
      "[CV 3/5; 3/72] END bootstrap=True, max_depth=139, max_features=2, min_samples_leaf=3, min_samples_split=8, n_estimators=300; total time=   9.3s\n",
      "[CV 4/5; 3/72] START bootstrap=True, max_depth=139, max_features=2, min_samples_leaf=3, min_samples_split=8, n_estimators=300\n",
      "[CV 4/5; 3/72] END bootstrap=True, max_depth=139, max_features=2, min_samples_leaf=3, min_samples_split=8, n_estimators=300; total time=   7.9s\n",
      "[CV 5/5; 3/72] START bootstrap=True, max_depth=139, max_features=2, min_samples_leaf=3, min_samples_split=8, n_estimators=300\n",
      "[CV 5/5; 3/72] END bootstrap=True, max_depth=139, max_features=2, min_samples_leaf=3, min_samples_split=8, n_estimators=300; total time=   8.0s\n",
      "[CV 1/5; 4/72] START bootstrap=True, max_depth=139, max_features=2, min_samples_leaf=3, min_samples_split=8, n_estimators=1000\n",
      "[CV 1/5; 4/72] END bootstrap=True, max_depth=139, max_features=2, min_samples_leaf=3, min_samples_split=8, n_estimators=1000; total time=  11.1s\n",
      "[CV 2/5; 4/72] START bootstrap=True, max_depth=139, max_features=2, min_samples_leaf=3, min_samples_split=8, n_estimators=1000\n",
      "[CV 2/5; 4/72] END bootstrap=True, max_depth=139, max_features=2, min_samples_leaf=3, min_samples_split=8, n_estimators=1000; total time=  11.3s\n",
      "[CV 3/5; 4/72] START bootstrap=True, max_depth=139, max_features=2, min_samples_leaf=3, min_samples_split=8, n_estimators=1000\n",
      "[CV 3/5; 4/72] END bootstrap=True, max_depth=139, max_features=2, min_samples_leaf=3, min_samples_split=8, n_estimators=1000; total time=  12.2s\n",
      "[CV 4/5; 4/72] START bootstrap=True, max_depth=139, max_features=2, min_samples_leaf=3, min_samples_split=8, n_estimators=1000\n",
      "[CV 4/5; 4/72] END bootstrap=True, max_depth=139, max_features=2, min_samples_leaf=3, min_samples_split=8, n_estimators=1000; total time=  13.0s\n",
      "[CV 5/5; 4/72] START bootstrap=True, max_depth=139, max_features=2, min_samples_leaf=3, min_samples_split=8, n_estimators=1000\n",
      "[CV 5/5; 4/72] END bootstrap=True, max_depth=139, max_features=2, min_samples_leaf=3, min_samples_split=8, n_estimators=1000; total time=  13.1s\n",
      "[CV 1/5; 5/72] START bootstrap=True, max_depth=139, max_features=2, min_samples_leaf=3, min_samples_split=10, n_estimators=100\n",
      "[CV 1/5; 5/72] END bootstrap=True, max_depth=139, max_features=2, min_samples_leaf=3, min_samples_split=10, n_estimators=100; total time=   8.6s\n",
      "[CV 2/5; 5/72] START bootstrap=True, max_depth=139, max_features=2, min_samples_leaf=3, min_samples_split=10, n_estimators=100\n",
      "[CV 2/5; 5/72] END bootstrap=True, max_depth=139, max_features=2, min_samples_leaf=3, min_samples_split=10, n_estimators=100; total time=   8.4s\n",
      "[CV 3/5; 5/72] START bootstrap=True, max_depth=139, max_features=2, min_samples_leaf=3, min_samples_split=10, n_estimators=100\n",
      "[CV 3/5; 5/72] END bootstrap=True, max_depth=139, max_features=2, min_samples_leaf=3, min_samples_split=10, n_estimators=100; total time=   8.0s\n",
      "[CV 4/5; 5/72] START bootstrap=True, max_depth=139, max_features=2, min_samples_leaf=3, min_samples_split=10, n_estimators=100\n",
      "[CV 4/5; 5/72] END bootstrap=True, max_depth=139, max_features=2, min_samples_leaf=3, min_samples_split=10, n_estimators=100; total time=   8.0s\n",
      "[CV 5/5; 5/72] START bootstrap=True, max_depth=139, max_features=2, min_samples_leaf=3, min_samples_split=10, n_estimators=100\n",
      "[CV 5/5; 5/72] END bootstrap=True, max_depth=139, max_features=2, min_samples_leaf=3, min_samples_split=10, n_estimators=100; total time=   8.0s\n",
      "[CV 1/5; 6/72] START bootstrap=True, max_depth=139, max_features=2, min_samples_leaf=3, min_samples_split=10, n_estimators=200\n",
      "[CV 1/5; 6/72] END bootstrap=True, max_depth=139, max_features=2, min_samples_leaf=3, min_samples_split=10, n_estimators=200; total time=   8.4s\n",
      "[CV 2/5; 6/72] START bootstrap=True, max_depth=139, max_features=2, min_samples_leaf=3, min_samples_split=10, n_estimators=200\n",
      "[CV 2/5; 6/72] END bootstrap=True, max_depth=139, max_features=2, min_samples_leaf=3, min_samples_split=10, n_estimators=200; total time=   8.7s\n",
      "[CV 3/5; 6/72] START bootstrap=True, max_depth=139, max_features=2, min_samples_leaf=3, min_samples_split=10, n_estimators=200\n",
      "[CV 3/5; 6/72] END bootstrap=True, max_depth=139, max_features=2, min_samples_leaf=3, min_samples_split=10, n_estimators=200; total time=   8.3s\n",
      "[CV 4/5; 6/72] START bootstrap=True, max_depth=139, max_features=2, min_samples_leaf=3, min_samples_split=10, n_estimators=200\n",
      "[CV 4/5; 6/72] END bootstrap=True, max_depth=139, max_features=2, min_samples_leaf=3, min_samples_split=10, n_estimators=200; total time=   8.5s\n",
      "[CV 5/5; 6/72] START bootstrap=True, max_depth=139, max_features=2, min_samples_leaf=3, min_samples_split=10, n_estimators=200\n",
      "[CV 5/5; 6/72] END bootstrap=True, max_depth=139, max_features=2, min_samples_leaf=3, min_samples_split=10, n_estimators=200; total time=   7.7s\n",
      "[CV 1/5; 7/72] START bootstrap=True, max_depth=139, max_features=2, min_samples_leaf=3, min_samples_split=10, n_estimators=300\n"
     ]
    },
    {
     "name": "stdout",
     "output_type": "stream",
     "text": [
      "[CV 1/5; 7/72] END bootstrap=True, max_depth=139, max_features=2, min_samples_leaf=3, min_samples_split=10, n_estimators=300; total time=   7.6s\n",
      "[CV 2/5; 7/72] START bootstrap=True, max_depth=139, max_features=2, min_samples_leaf=3, min_samples_split=10, n_estimators=300\n",
      "[CV 2/5; 7/72] END bootstrap=True, max_depth=139, max_features=2, min_samples_leaf=3, min_samples_split=10, n_estimators=300; total time=   8.5s\n",
      "[CV 3/5; 7/72] START bootstrap=True, max_depth=139, max_features=2, min_samples_leaf=3, min_samples_split=10, n_estimators=300\n",
      "[CV 3/5; 7/72] END bootstrap=True, max_depth=139, max_features=2, min_samples_leaf=3, min_samples_split=10, n_estimators=300; total time=   8.6s\n",
      "[CV 4/5; 7/72] START bootstrap=True, max_depth=139, max_features=2, min_samples_leaf=3, min_samples_split=10, n_estimators=300\n",
      "[CV 4/5; 7/72] END bootstrap=True, max_depth=139, max_features=2, min_samples_leaf=3, min_samples_split=10, n_estimators=300; total time=   8.8s\n",
      "[CV 5/5; 7/72] START bootstrap=True, max_depth=139, max_features=2, min_samples_leaf=3, min_samples_split=10, n_estimators=300\n",
      "[CV 5/5; 7/72] END bootstrap=True, max_depth=139, max_features=2, min_samples_leaf=3, min_samples_split=10, n_estimators=300; total time=   8.1s\n",
      "[CV 1/5; 8/72] START bootstrap=True, max_depth=139, max_features=2, min_samples_leaf=3, min_samples_split=10, n_estimators=1000\n",
      "[CV 1/5; 8/72] END bootstrap=True, max_depth=139, max_features=2, min_samples_leaf=3, min_samples_split=10, n_estimators=1000; total time=  10.9s\n",
      "[CV 2/5; 8/72] START bootstrap=True, max_depth=139, max_features=2, min_samples_leaf=3, min_samples_split=10, n_estimators=1000\n",
      "[CV 2/5; 8/72] END bootstrap=True, max_depth=139, max_features=2, min_samples_leaf=3, min_samples_split=10, n_estimators=1000; total time=  10.2s\n",
      "[CV 3/5; 8/72] START bootstrap=True, max_depth=139, max_features=2, min_samples_leaf=3, min_samples_split=10, n_estimators=1000\n",
      "[CV 3/5; 8/72] END bootstrap=True, max_depth=139, max_features=2, min_samples_leaf=3, min_samples_split=10, n_estimators=1000; total time=  10.4s\n",
      "[CV 4/5; 8/72] START bootstrap=True, max_depth=139, max_features=2, min_samples_leaf=3, min_samples_split=10, n_estimators=1000\n",
      "[CV 4/5; 8/72] END bootstrap=True, max_depth=139, max_features=2, min_samples_leaf=3, min_samples_split=10, n_estimators=1000; total time=  10.7s\n",
      "[CV 5/5; 8/72] START bootstrap=True, max_depth=139, max_features=2, min_samples_leaf=3, min_samples_split=10, n_estimators=1000\n",
      "[CV 5/5; 8/72] END bootstrap=True, max_depth=139, max_features=2, min_samples_leaf=3, min_samples_split=10, n_estimators=1000; total time=  10.9s\n",
      "[CV 1/5; 9/72] START bootstrap=True, max_depth=139, max_features=2, min_samples_leaf=3, min_samples_split=12, n_estimators=100\n",
      "[CV 1/5; 9/72] END bootstrap=True, max_depth=139, max_features=2, min_samples_leaf=3, min_samples_split=12, n_estimators=100; total time=   7.1s\n",
      "[CV 2/5; 9/72] START bootstrap=True, max_depth=139, max_features=2, min_samples_leaf=3, min_samples_split=12, n_estimators=100\n",
      "[CV 2/5; 9/72] END bootstrap=True, max_depth=139, max_features=2, min_samples_leaf=3, min_samples_split=12, n_estimators=100; total time=   7.5s\n",
      "[CV 3/5; 9/72] START bootstrap=True, max_depth=139, max_features=2, min_samples_leaf=3, min_samples_split=12, n_estimators=100\n",
      "[CV 3/5; 9/72] END bootstrap=True, max_depth=139, max_features=2, min_samples_leaf=3, min_samples_split=12, n_estimators=100; total time=   8.3s\n",
      "[CV 4/5; 9/72] START bootstrap=True, max_depth=139, max_features=2, min_samples_leaf=3, min_samples_split=12, n_estimators=100\n",
      "[CV 4/5; 9/72] END bootstrap=True, max_depth=139, max_features=2, min_samples_leaf=3, min_samples_split=12, n_estimators=100; total time=   7.9s\n",
      "[CV 5/5; 9/72] START bootstrap=True, max_depth=139, max_features=2, min_samples_leaf=3, min_samples_split=12, n_estimators=100\n",
      "[CV 5/5; 9/72] END bootstrap=True, max_depth=139, max_features=2, min_samples_leaf=3, min_samples_split=12, n_estimators=100; total time=   8.1s\n",
      "[CV 1/5; 10/72] START bootstrap=True, max_depth=139, max_features=2, min_samples_leaf=3, min_samples_split=12, n_estimators=200\n",
      "[CV 1/5; 10/72] END bootstrap=True, max_depth=139, max_features=2, min_samples_leaf=3, min_samples_split=12, n_estimators=200; total time=   8.4s\n",
      "[CV 2/5; 10/72] START bootstrap=True, max_depth=139, max_features=2, min_samples_leaf=3, min_samples_split=12, n_estimators=200\n",
      "[CV 2/5; 10/72] END bootstrap=True, max_depth=139, max_features=2, min_samples_leaf=3, min_samples_split=12, n_estimators=200; total time=   8.2s\n",
      "[CV 3/5; 10/72] START bootstrap=True, max_depth=139, max_features=2, min_samples_leaf=3, min_samples_split=12, n_estimators=200\n",
      "[CV 3/5; 10/72] END bootstrap=True, max_depth=139, max_features=2, min_samples_leaf=3, min_samples_split=12, n_estimators=200; total time=   7.7s\n",
      "[CV 4/5; 10/72] START bootstrap=True, max_depth=139, max_features=2, min_samples_leaf=3, min_samples_split=12, n_estimators=200\n",
      "[CV 4/5; 10/72] END bootstrap=True, max_depth=139, max_features=2, min_samples_leaf=3, min_samples_split=12, n_estimators=200; total time=   7.9s\n",
      "[CV 5/5; 10/72] START bootstrap=True, max_depth=139, max_features=2, min_samples_leaf=3, min_samples_split=12, n_estimators=200\n",
      "[CV 5/5; 10/72] END bootstrap=True, max_depth=139, max_features=2, min_samples_leaf=3, min_samples_split=12, n_estimators=200; total time=   7.3s\n",
      "[CV 1/5; 11/72] START bootstrap=True, max_depth=139, max_features=2, min_samples_leaf=3, min_samples_split=12, n_estimators=300\n",
      "[CV 1/5; 11/72] END bootstrap=True, max_depth=139, max_features=2, min_samples_leaf=3, min_samples_split=12, n_estimators=300; total time=   7.6s\n",
      "[CV 2/5; 11/72] START bootstrap=True, max_depth=139, max_features=2, min_samples_leaf=3, min_samples_split=12, n_estimators=300\n",
      "[CV 2/5; 11/72] END bootstrap=True, max_depth=139, max_features=2, min_samples_leaf=3, min_samples_split=12, n_estimators=300; total time=   7.7s\n",
      "[CV 3/5; 11/72] START bootstrap=True, max_depth=139, max_features=2, min_samples_leaf=3, min_samples_split=12, n_estimators=300\n",
      "[CV 3/5; 11/72] END bootstrap=True, max_depth=139, max_features=2, min_samples_leaf=3, min_samples_split=12, n_estimators=300; total time=   7.5s\n",
      "[CV 4/5; 11/72] START bootstrap=True, max_depth=139, max_features=2, min_samples_leaf=3, min_samples_split=12, n_estimators=300\n",
      "[CV 4/5; 11/72] END bootstrap=True, max_depth=139, max_features=2, min_samples_leaf=3, min_samples_split=12, n_estimators=300; total time=   7.5s\n",
      "[CV 5/5; 11/72] START bootstrap=True, max_depth=139, max_features=2, min_samples_leaf=3, min_samples_split=12, n_estimators=300\n",
      "[CV 5/5; 11/72] END bootstrap=True, max_depth=139, max_features=2, min_samples_leaf=3, min_samples_split=12, n_estimators=300; total time=   7.4s\n",
      "[CV 1/5; 12/72] START bootstrap=True, max_depth=139, max_features=2, min_samples_leaf=3, min_samples_split=12, n_estimators=1000\n",
      "[CV 1/5; 12/72] END bootstrap=True, max_depth=139, max_features=2, min_samples_leaf=3, min_samples_split=12, n_estimators=1000; total time=  10.5s\n",
      "[CV 2/5; 12/72] START bootstrap=True, max_depth=139, max_features=2, min_samples_leaf=3, min_samples_split=12, n_estimators=1000\n",
      "[CV 2/5; 12/72] END bootstrap=True, max_depth=139, max_features=2, min_samples_leaf=3, min_samples_split=12, n_estimators=1000; total time=  10.5s\n",
      "[CV 3/5; 12/72] START bootstrap=True, max_depth=139, max_features=2, min_samples_leaf=3, min_samples_split=12, n_estimators=1000\n",
      "[CV 3/5; 12/72] END bootstrap=True, max_depth=139, max_features=2, min_samples_leaf=3, min_samples_split=12, n_estimators=1000; total time=  10.8s\n",
      "[CV 4/5; 12/72] START bootstrap=True, max_depth=139, max_features=2, min_samples_leaf=3, min_samples_split=12, n_estimators=1000\n",
      "[CV 4/5; 12/72] END bootstrap=True, max_depth=139, max_features=2, min_samples_leaf=3, min_samples_split=12, n_estimators=1000; total time=  10.8s\n",
      "[CV 5/5; 12/72] START bootstrap=True, max_depth=139, max_features=2, min_samples_leaf=3, min_samples_split=12, n_estimators=1000\n",
      "[CV 5/5; 12/72] END bootstrap=True, max_depth=139, max_features=2, min_samples_leaf=3, min_samples_split=12, n_estimators=1000; total time=  10.6s\n",
      "[CV 1/5; 13/72] START bootstrap=True, max_depth=139, max_features=2, min_samples_leaf=4, min_samples_split=8, n_estimators=100\n"
     ]
    },
    {
     "name": "stdout",
     "output_type": "stream",
     "text": [
      "[CV 1/5; 13/72] END bootstrap=True, max_depth=139, max_features=2, min_samples_leaf=4, min_samples_split=8, n_estimators=100; total time=   6.8s\n",
      "[CV 2/5; 13/72] START bootstrap=True, max_depth=139, max_features=2, min_samples_leaf=4, min_samples_split=8, n_estimators=100\n",
      "[CV 2/5; 13/72] END bootstrap=True, max_depth=139, max_features=2, min_samples_leaf=4, min_samples_split=8, n_estimators=100; total time=   6.4s\n",
      "[CV 3/5; 13/72] START bootstrap=True, max_depth=139, max_features=2, min_samples_leaf=4, min_samples_split=8, n_estimators=100\n",
      "[CV 3/5; 13/72] END bootstrap=True, max_depth=139, max_features=2, min_samples_leaf=4, min_samples_split=8, n_estimators=100; total time=   6.6s\n",
      "[CV 4/5; 13/72] START bootstrap=True, max_depth=139, max_features=2, min_samples_leaf=4, min_samples_split=8, n_estimators=100\n",
      "[CV 4/5; 13/72] END bootstrap=True, max_depth=139, max_features=2, min_samples_leaf=4, min_samples_split=8, n_estimators=100; total time=   6.7s\n",
      "[CV 5/5; 13/72] START bootstrap=True, max_depth=139, max_features=2, min_samples_leaf=4, min_samples_split=8, n_estimators=100\n",
      "[CV 5/5; 13/72] END bootstrap=True, max_depth=139, max_features=2, min_samples_leaf=4, min_samples_split=8, n_estimators=100; total time=   7.5s\n",
      "[CV 1/5; 14/72] START bootstrap=True, max_depth=139, max_features=2, min_samples_leaf=4, min_samples_split=8, n_estimators=200\n",
      "[CV 1/5; 14/72] END bootstrap=True, max_depth=139, max_features=2, min_samples_leaf=4, min_samples_split=8, n_estimators=200; total time=   7.6s\n",
      "[CV 2/5; 14/72] START bootstrap=True, max_depth=139, max_features=2, min_samples_leaf=4, min_samples_split=8, n_estimators=200\n",
      "[CV 2/5; 14/72] END bootstrap=True, max_depth=139, max_features=2, min_samples_leaf=4, min_samples_split=8, n_estimators=200; total time=   7.5s\n",
      "[CV 3/5; 14/72] START bootstrap=True, max_depth=139, max_features=2, min_samples_leaf=4, min_samples_split=8, n_estimators=200\n",
      "[CV 3/5; 14/72] END bootstrap=True, max_depth=139, max_features=2, min_samples_leaf=4, min_samples_split=8, n_estimators=200; total time=   7.4s\n",
      "[CV 4/5; 14/72] START bootstrap=True, max_depth=139, max_features=2, min_samples_leaf=4, min_samples_split=8, n_estimators=200\n",
      "[CV 4/5; 14/72] END bootstrap=True, max_depth=139, max_features=2, min_samples_leaf=4, min_samples_split=8, n_estimators=200; total time=   7.4s\n",
      "[CV 5/5; 14/72] START bootstrap=True, max_depth=139, max_features=2, min_samples_leaf=4, min_samples_split=8, n_estimators=200\n",
      "[CV 5/5; 14/72] END bootstrap=True, max_depth=139, max_features=2, min_samples_leaf=4, min_samples_split=8, n_estimators=200; total time=   6.9s\n",
      "[CV 1/5; 15/72] START bootstrap=True, max_depth=139, max_features=2, min_samples_leaf=4, min_samples_split=8, n_estimators=300\n",
      "[CV 1/5; 15/72] END bootstrap=True, max_depth=139, max_features=2, min_samples_leaf=4, min_samples_split=8, n_estimators=300; total time=   8.1s\n",
      "[CV 2/5; 15/72] START bootstrap=True, max_depth=139, max_features=2, min_samples_leaf=4, min_samples_split=8, n_estimators=300\n",
      "[CV 2/5; 15/72] END bootstrap=True, max_depth=139, max_features=2, min_samples_leaf=4, min_samples_split=8, n_estimators=300; total time=   9.0s\n",
      "[CV 3/5; 15/72] START bootstrap=True, max_depth=139, max_features=2, min_samples_leaf=4, min_samples_split=8, n_estimators=300\n",
      "[CV 3/5; 15/72] END bootstrap=True, max_depth=139, max_features=2, min_samples_leaf=4, min_samples_split=8, n_estimators=300; total time=   9.4s\n",
      "[CV 4/5; 15/72] START bootstrap=True, max_depth=139, max_features=2, min_samples_leaf=4, min_samples_split=8, n_estimators=300\n",
      "[CV 4/5; 15/72] END bootstrap=True, max_depth=139, max_features=2, min_samples_leaf=4, min_samples_split=8, n_estimators=300; total time=   8.8s\n",
      "[CV 5/5; 15/72] START bootstrap=True, max_depth=139, max_features=2, min_samples_leaf=4, min_samples_split=8, n_estimators=300\n",
      "[CV 5/5; 15/72] END bootstrap=True, max_depth=139, max_features=2, min_samples_leaf=4, min_samples_split=8, n_estimators=300; total time=   9.3s\n",
      "[CV 1/5; 16/72] START bootstrap=True, max_depth=139, max_features=2, min_samples_leaf=4, min_samples_split=8, n_estimators=1000\n",
      "[CV 1/5; 16/72] END bootstrap=True, max_depth=139, max_features=2, min_samples_leaf=4, min_samples_split=8, n_estimators=1000; total time=  13.6s\n",
      "[CV 2/5; 16/72] START bootstrap=True, max_depth=139, max_features=2, min_samples_leaf=4, min_samples_split=8, n_estimators=1000\n",
      "[CV 2/5; 16/72] END bootstrap=True, max_depth=139, max_features=2, min_samples_leaf=4, min_samples_split=8, n_estimators=1000; total time=  12.9s\n",
      "[CV 3/5; 16/72] START bootstrap=True, max_depth=139, max_features=2, min_samples_leaf=4, min_samples_split=8, n_estimators=1000\n",
      "[CV 3/5; 16/72] END bootstrap=True, max_depth=139, max_features=2, min_samples_leaf=4, min_samples_split=8, n_estimators=1000; total time=  13.2s\n",
      "[CV 4/5; 16/72] START bootstrap=True, max_depth=139, max_features=2, min_samples_leaf=4, min_samples_split=8, n_estimators=1000\n",
      "[CV 4/5; 16/72] END bootstrap=True, max_depth=139, max_features=2, min_samples_leaf=4, min_samples_split=8, n_estimators=1000; total time=  12.3s\n",
      "[CV 5/5; 16/72] START bootstrap=True, max_depth=139, max_features=2, min_samples_leaf=4, min_samples_split=8, n_estimators=1000\n",
      "[CV 5/5; 16/72] END bootstrap=True, max_depth=139, max_features=2, min_samples_leaf=4, min_samples_split=8, n_estimators=1000; total time=  12.5s\n",
      "[CV 1/5; 17/72] START bootstrap=True, max_depth=139, max_features=2, min_samples_leaf=4, min_samples_split=10, n_estimators=100\n",
      "[CV 1/5; 17/72] END bootstrap=True, max_depth=139, max_features=2, min_samples_leaf=4, min_samples_split=10, n_estimators=100; total time=   8.2s\n",
      "[CV 2/5; 17/72] START bootstrap=True, max_depth=139, max_features=2, min_samples_leaf=4, min_samples_split=10, n_estimators=100\n",
      "[CV 2/5; 17/72] END bootstrap=True, max_depth=139, max_features=2, min_samples_leaf=4, min_samples_split=10, n_estimators=100; total time=   8.1s\n",
      "[CV 3/5; 17/72] START bootstrap=True, max_depth=139, max_features=2, min_samples_leaf=4, min_samples_split=10, n_estimators=100\n",
      "[CV 3/5; 17/72] END bootstrap=True, max_depth=139, max_features=2, min_samples_leaf=4, min_samples_split=10, n_estimators=100; total time=   7.8s\n",
      "[CV 4/5; 17/72] START bootstrap=True, max_depth=139, max_features=2, min_samples_leaf=4, min_samples_split=10, n_estimators=100\n",
      "[CV 4/5; 17/72] END bootstrap=True, max_depth=139, max_features=2, min_samples_leaf=4, min_samples_split=10, n_estimators=100; total time=   7.9s\n",
      "[CV 5/5; 17/72] START bootstrap=True, max_depth=139, max_features=2, min_samples_leaf=4, min_samples_split=10, n_estimators=100\n",
      "[CV 5/5; 17/72] END bootstrap=True, max_depth=139, max_features=2, min_samples_leaf=4, min_samples_split=10, n_estimators=100; total time=   8.2s\n",
      "[CV 1/5; 18/72] START bootstrap=True, max_depth=139, max_features=2, min_samples_leaf=4, min_samples_split=10, n_estimators=200\n",
      "[CV 1/5; 18/72] END bootstrap=True, max_depth=139, max_features=2, min_samples_leaf=4, min_samples_split=10, n_estimators=200; total time=   8.7s\n",
      "[CV 2/5; 18/72] START bootstrap=True, max_depth=139, max_features=2, min_samples_leaf=4, min_samples_split=10, n_estimators=200\n",
      "[CV 2/5; 18/72] END bootstrap=True, max_depth=139, max_features=2, min_samples_leaf=4, min_samples_split=10, n_estimators=200; total time=   8.3s\n",
      "[CV 3/5; 18/72] START bootstrap=True, max_depth=139, max_features=2, min_samples_leaf=4, min_samples_split=10, n_estimators=200\n",
      "[CV 3/5; 18/72] END bootstrap=True, max_depth=139, max_features=2, min_samples_leaf=4, min_samples_split=10, n_estimators=200; total time=   8.5s\n",
      "[CV 4/5; 18/72] START bootstrap=True, max_depth=139, max_features=2, min_samples_leaf=4, min_samples_split=10, n_estimators=200\n",
      "[CV 4/5; 18/72] END bootstrap=True, max_depth=139, max_features=2, min_samples_leaf=4, min_samples_split=10, n_estimators=200; total time=   8.2s\n",
      "[CV 5/5; 18/72] START bootstrap=True, max_depth=139, max_features=2, min_samples_leaf=4, min_samples_split=10, n_estimators=200\n",
      "[CV 5/5; 18/72] END bootstrap=True, max_depth=139, max_features=2, min_samples_leaf=4, min_samples_split=10, n_estimators=200; total time=   8.2s\n",
      "[CV 1/5; 19/72] START bootstrap=True, max_depth=139, max_features=2, min_samples_leaf=4, min_samples_split=10, n_estimators=300\n",
      "[CV 1/5; 19/72] END bootstrap=True, max_depth=139, max_features=2, min_samples_leaf=4, min_samples_split=10, n_estimators=300; total time=   9.2s\n",
      "[CV 2/5; 19/72] START bootstrap=True, max_depth=139, max_features=2, min_samples_leaf=4, min_samples_split=10, n_estimators=300\n"
     ]
    },
    {
     "name": "stdout",
     "output_type": "stream",
     "text": [
      "[CV 2/5; 19/72] END bootstrap=True, max_depth=139, max_features=2, min_samples_leaf=4, min_samples_split=10, n_estimators=300; total time=   7.4s\n",
      "[CV 3/5; 19/72] START bootstrap=True, max_depth=139, max_features=2, min_samples_leaf=4, min_samples_split=10, n_estimators=300\n",
      "[CV 3/5; 19/72] END bootstrap=True, max_depth=139, max_features=2, min_samples_leaf=4, min_samples_split=10, n_estimators=300; total time=   7.7s\n",
      "[CV 4/5; 19/72] START bootstrap=True, max_depth=139, max_features=2, min_samples_leaf=4, min_samples_split=10, n_estimators=300\n",
      "[CV 4/5; 19/72] END bootstrap=True, max_depth=139, max_features=2, min_samples_leaf=4, min_samples_split=10, n_estimators=300; total time=   8.9s\n",
      "[CV 5/5; 19/72] START bootstrap=True, max_depth=139, max_features=2, min_samples_leaf=4, min_samples_split=10, n_estimators=300\n",
      "[CV 5/5; 19/72] END bootstrap=True, max_depth=139, max_features=2, min_samples_leaf=4, min_samples_split=10, n_estimators=300; total time=   8.9s\n",
      "[CV 1/5; 20/72] START bootstrap=True, max_depth=139, max_features=2, min_samples_leaf=4, min_samples_split=10, n_estimators=1000\n",
      "[CV 1/5; 20/72] END bootstrap=True, max_depth=139, max_features=2, min_samples_leaf=4, min_samples_split=10, n_estimators=1000; total time=  12.1s\n",
      "[CV 2/5; 20/72] START bootstrap=True, max_depth=139, max_features=2, min_samples_leaf=4, min_samples_split=10, n_estimators=1000\n",
      "[CV 2/5; 20/72] END bootstrap=True, max_depth=139, max_features=2, min_samples_leaf=4, min_samples_split=10, n_estimators=1000; total time=  12.3s\n",
      "[CV 3/5; 20/72] START bootstrap=True, max_depth=139, max_features=2, min_samples_leaf=4, min_samples_split=10, n_estimators=1000\n",
      "[CV 3/5; 20/72] END bootstrap=True, max_depth=139, max_features=2, min_samples_leaf=4, min_samples_split=10, n_estimators=1000; total time=  12.0s\n",
      "[CV 4/5; 20/72] START bootstrap=True, max_depth=139, max_features=2, min_samples_leaf=4, min_samples_split=10, n_estimators=1000\n",
      "[CV 4/5; 20/72] END bootstrap=True, max_depth=139, max_features=2, min_samples_leaf=4, min_samples_split=10, n_estimators=1000; total time=  12.1s\n",
      "[CV 5/5; 20/72] START bootstrap=True, max_depth=139, max_features=2, min_samples_leaf=4, min_samples_split=10, n_estimators=1000\n",
      "[CV 5/5; 20/72] END bootstrap=True, max_depth=139, max_features=2, min_samples_leaf=4, min_samples_split=10, n_estimators=1000; total time=  12.0s\n",
      "[CV 1/5; 21/72] START bootstrap=True, max_depth=139, max_features=2, min_samples_leaf=4, min_samples_split=12, n_estimators=100\n",
      "[CV 1/5; 21/72] END bootstrap=True, max_depth=139, max_features=2, min_samples_leaf=4, min_samples_split=12, n_estimators=100; total time=   7.6s\n",
      "[CV 2/5; 21/72] START bootstrap=True, max_depth=139, max_features=2, min_samples_leaf=4, min_samples_split=12, n_estimators=100\n",
      "[CV 2/5; 21/72] END bootstrap=True, max_depth=139, max_features=2, min_samples_leaf=4, min_samples_split=12, n_estimators=100; total time=   7.6s\n",
      "[CV 3/5; 21/72] START bootstrap=True, max_depth=139, max_features=2, min_samples_leaf=4, min_samples_split=12, n_estimators=100\n",
      "[CV 3/5; 21/72] END bootstrap=True, max_depth=139, max_features=2, min_samples_leaf=4, min_samples_split=12, n_estimators=100; total time=   7.7s\n",
      "[CV 4/5; 21/72] START bootstrap=True, max_depth=139, max_features=2, min_samples_leaf=4, min_samples_split=12, n_estimators=100\n",
      "[CV 4/5; 21/72] END bootstrap=True, max_depth=139, max_features=2, min_samples_leaf=4, min_samples_split=12, n_estimators=100; total time=   7.7s\n",
      "[CV 5/5; 21/72] START bootstrap=True, max_depth=139, max_features=2, min_samples_leaf=4, min_samples_split=12, n_estimators=100\n",
      "[CV 5/5; 21/72] END bootstrap=True, max_depth=139, max_features=2, min_samples_leaf=4, min_samples_split=12, n_estimators=100; total time=   8.1s\n",
      "[CV 1/5; 22/72] START bootstrap=True, max_depth=139, max_features=2, min_samples_leaf=4, min_samples_split=12, n_estimators=200\n",
      "[CV 1/5; 22/72] END bootstrap=True, max_depth=139, max_features=2, min_samples_leaf=4, min_samples_split=12, n_estimators=200; total time=   8.1s\n",
      "[CV 2/5; 22/72] START bootstrap=True, max_depth=139, max_features=2, min_samples_leaf=4, min_samples_split=12, n_estimators=200\n",
      "[CV 2/5; 22/72] END bootstrap=True, max_depth=139, max_features=2, min_samples_leaf=4, min_samples_split=12, n_estimators=200; total time=   8.7s\n",
      "[CV 3/5; 22/72] START bootstrap=True, max_depth=139, max_features=2, min_samples_leaf=4, min_samples_split=12, n_estimators=200\n",
      "[CV 3/5; 22/72] END bootstrap=True, max_depth=139, max_features=2, min_samples_leaf=4, min_samples_split=12, n_estimators=200; total time=   8.4s\n",
      "[CV 4/5; 22/72] START bootstrap=True, max_depth=139, max_features=2, min_samples_leaf=4, min_samples_split=12, n_estimators=200\n",
      "[CV 4/5; 22/72] END bootstrap=True, max_depth=139, max_features=2, min_samples_leaf=4, min_samples_split=12, n_estimators=200; total time=   8.1s\n",
      "[CV 5/5; 22/72] START bootstrap=True, max_depth=139, max_features=2, min_samples_leaf=4, min_samples_split=12, n_estimators=200\n",
      "[CV 5/5; 22/72] END bootstrap=True, max_depth=139, max_features=2, min_samples_leaf=4, min_samples_split=12, n_estimators=200; total time=   7.8s\n",
      "[CV 1/5; 23/72] START bootstrap=True, max_depth=139, max_features=2, min_samples_leaf=4, min_samples_split=12, n_estimators=300\n",
      "[CV 1/5; 23/72] END bootstrap=True, max_depth=139, max_features=2, min_samples_leaf=4, min_samples_split=12, n_estimators=300; total time=   8.6s\n",
      "[CV 2/5; 23/72] START bootstrap=True, max_depth=139, max_features=2, min_samples_leaf=4, min_samples_split=12, n_estimators=300\n",
      "[CV 2/5; 23/72] END bootstrap=True, max_depth=139, max_features=2, min_samples_leaf=4, min_samples_split=12, n_estimators=300; total time=   9.0s\n",
      "[CV 3/5; 23/72] START bootstrap=True, max_depth=139, max_features=2, min_samples_leaf=4, min_samples_split=12, n_estimators=300\n",
      "[CV 3/5; 23/72] END bootstrap=True, max_depth=139, max_features=2, min_samples_leaf=4, min_samples_split=12, n_estimators=300; total time=   9.3s\n",
      "[CV 4/5; 23/72] START bootstrap=True, max_depth=139, max_features=2, min_samples_leaf=4, min_samples_split=12, n_estimators=300\n",
      "[CV 4/5; 23/72] END bootstrap=True, max_depth=139, max_features=2, min_samples_leaf=4, min_samples_split=12, n_estimators=300; total time=   8.7s\n",
      "[CV 5/5; 23/72] START bootstrap=True, max_depth=139, max_features=2, min_samples_leaf=4, min_samples_split=12, n_estimators=300\n",
      "[CV 5/5; 23/72] END bootstrap=True, max_depth=139, max_features=2, min_samples_leaf=4, min_samples_split=12, n_estimators=300; total time=   8.2s\n",
      "[CV 1/5; 24/72] START bootstrap=True, max_depth=139, max_features=2, min_samples_leaf=4, min_samples_split=12, n_estimators=1000\n",
      "[CV 1/5; 24/72] END bootstrap=True, max_depth=139, max_features=2, min_samples_leaf=4, min_samples_split=12, n_estimators=1000; total time=  12.1s\n",
      "[CV 2/5; 24/72] START bootstrap=True, max_depth=139, max_features=2, min_samples_leaf=4, min_samples_split=12, n_estimators=1000\n",
      "[CV 2/5; 24/72] END bootstrap=True, max_depth=139, max_features=2, min_samples_leaf=4, min_samples_split=12, n_estimators=1000; total time=  12.2s\n",
      "[CV 3/5; 24/72] START bootstrap=True, max_depth=139, max_features=2, min_samples_leaf=4, min_samples_split=12, n_estimators=1000\n",
      "[CV 3/5; 24/72] END bootstrap=True, max_depth=139, max_features=2, min_samples_leaf=4, min_samples_split=12, n_estimators=1000; total time=  12.7s\n",
      "[CV 4/5; 24/72] START bootstrap=True, max_depth=139, max_features=2, min_samples_leaf=4, min_samples_split=12, n_estimators=1000\n",
      "[CV 4/5; 24/72] END bootstrap=True, max_depth=139, max_features=2, min_samples_leaf=4, min_samples_split=12, n_estimators=1000; total time=  12.1s\n",
      "[CV 5/5; 24/72] START bootstrap=True, max_depth=139, max_features=2, min_samples_leaf=4, min_samples_split=12, n_estimators=1000\n",
      "[CV 5/5; 24/72] END bootstrap=True, max_depth=139, max_features=2, min_samples_leaf=4, min_samples_split=12, n_estimators=1000; total time=  12.6s\n",
      "[CV 1/5; 25/72] START bootstrap=True, max_depth=139, max_features=2, min_samples_leaf=5, min_samples_split=8, n_estimators=100\n",
      "[CV 1/5; 25/72] END bootstrap=True, max_depth=139, max_features=2, min_samples_leaf=5, min_samples_split=8, n_estimators=100; total time=   8.1s\n",
      "[CV 2/5; 25/72] START bootstrap=True, max_depth=139, max_features=2, min_samples_leaf=5, min_samples_split=8, n_estimators=100\n"
     ]
    },
    {
     "name": "stdout",
     "output_type": "stream",
     "text": [
      "[CV 2/5; 25/72] END bootstrap=True, max_depth=139, max_features=2, min_samples_leaf=5, min_samples_split=8, n_estimators=100; total time=   8.4s\n",
      "[CV 3/5; 25/72] START bootstrap=True, max_depth=139, max_features=2, min_samples_leaf=5, min_samples_split=8, n_estimators=100\n",
      "[CV 3/5; 25/72] END bootstrap=True, max_depth=139, max_features=2, min_samples_leaf=5, min_samples_split=8, n_estimators=100; total time=   8.2s\n",
      "[CV 4/5; 25/72] START bootstrap=True, max_depth=139, max_features=2, min_samples_leaf=5, min_samples_split=8, n_estimators=100\n",
      "[CV 4/5; 25/72] END bootstrap=True, max_depth=139, max_features=2, min_samples_leaf=5, min_samples_split=8, n_estimators=100; total time=   8.0s\n",
      "[CV 5/5; 25/72] START bootstrap=True, max_depth=139, max_features=2, min_samples_leaf=5, min_samples_split=8, n_estimators=100\n",
      "[CV 5/5; 25/72] END bootstrap=True, max_depth=139, max_features=2, min_samples_leaf=5, min_samples_split=8, n_estimators=100; total time=   8.1s\n",
      "[CV 1/5; 26/72] START bootstrap=True, max_depth=139, max_features=2, min_samples_leaf=5, min_samples_split=8, n_estimators=200\n",
      "[CV 1/5; 26/72] END bootstrap=True, max_depth=139, max_features=2, min_samples_leaf=5, min_samples_split=8, n_estimators=200; total time=   8.7s\n",
      "[CV 2/5; 26/72] START bootstrap=True, max_depth=139, max_features=2, min_samples_leaf=5, min_samples_split=8, n_estimators=200\n",
      "[CV 2/5; 26/72] END bootstrap=True, max_depth=139, max_features=2, min_samples_leaf=5, min_samples_split=8, n_estimators=200; total time=   8.3s\n",
      "[CV 3/5; 26/72] START bootstrap=True, max_depth=139, max_features=2, min_samples_leaf=5, min_samples_split=8, n_estimators=200\n",
      "[CV 3/5; 26/72] END bootstrap=True, max_depth=139, max_features=2, min_samples_leaf=5, min_samples_split=8, n_estimators=200; total time=   8.7s\n",
      "[CV 4/5; 26/72] START bootstrap=True, max_depth=139, max_features=2, min_samples_leaf=5, min_samples_split=8, n_estimators=200\n",
      "[CV 4/5; 26/72] END bootstrap=True, max_depth=139, max_features=2, min_samples_leaf=5, min_samples_split=8, n_estimators=200; total time=   8.5s\n",
      "[CV 5/5; 26/72] START bootstrap=True, max_depth=139, max_features=2, min_samples_leaf=5, min_samples_split=8, n_estimators=200\n",
      "[CV 5/5; 26/72] END bootstrap=True, max_depth=139, max_features=2, min_samples_leaf=5, min_samples_split=8, n_estimators=200; total time=   8.4s\n",
      "[CV 1/5; 27/72] START bootstrap=True, max_depth=139, max_features=2, min_samples_leaf=5, min_samples_split=8, n_estimators=300\n",
      "[CV 1/5; 27/72] END bootstrap=True, max_depth=139, max_features=2, min_samples_leaf=5, min_samples_split=8, n_estimators=300; total time=   8.9s\n",
      "[CV 2/5; 27/72] START bootstrap=True, max_depth=139, max_features=2, min_samples_leaf=5, min_samples_split=8, n_estimators=300\n",
      "[CV 2/5; 27/72] END bootstrap=True, max_depth=139, max_features=2, min_samples_leaf=5, min_samples_split=8, n_estimators=300; total time=   9.0s\n",
      "[CV 3/5; 27/72] START bootstrap=True, max_depth=139, max_features=2, min_samples_leaf=5, min_samples_split=8, n_estimators=300\n",
      "[CV 3/5; 27/72] END bootstrap=True, max_depth=139, max_features=2, min_samples_leaf=5, min_samples_split=8, n_estimators=300; total time=   8.7s\n",
      "[CV 4/5; 27/72] START bootstrap=True, max_depth=139, max_features=2, min_samples_leaf=5, min_samples_split=8, n_estimators=300\n",
      "[CV 4/5; 27/72] END bootstrap=True, max_depth=139, max_features=2, min_samples_leaf=5, min_samples_split=8, n_estimators=300; total time=   8.8s\n",
      "[CV 5/5; 27/72] START bootstrap=True, max_depth=139, max_features=2, min_samples_leaf=5, min_samples_split=8, n_estimators=300\n",
      "[CV 5/5; 27/72] END bootstrap=True, max_depth=139, max_features=2, min_samples_leaf=5, min_samples_split=8, n_estimators=300; total time=   9.1s\n",
      "[CV 1/5; 28/72] START bootstrap=True, max_depth=139, max_features=2, min_samples_leaf=5, min_samples_split=8, n_estimators=1000\n",
      "[CV 1/5; 28/72] END bootstrap=True, max_depth=139, max_features=2, min_samples_leaf=5, min_samples_split=8, n_estimators=1000; total time=  12.1s\n",
      "[CV 2/5; 28/72] START bootstrap=True, max_depth=139, max_features=2, min_samples_leaf=5, min_samples_split=8, n_estimators=1000\n",
      "[CV 2/5; 28/72] END bootstrap=True, max_depth=139, max_features=2, min_samples_leaf=5, min_samples_split=8, n_estimators=1000; total time=  12.2s\n",
      "[CV 3/5; 28/72] START bootstrap=True, max_depth=139, max_features=2, min_samples_leaf=5, min_samples_split=8, n_estimators=1000\n",
      "[CV 3/5; 28/72] END bootstrap=True, max_depth=139, max_features=2, min_samples_leaf=5, min_samples_split=8, n_estimators=1000; total time=  12.6s\n",
      "[CV 4/5; 28/72] START bootstrap=True, max_depth=139, max_features=2, min_samples_leaf=5, min_samples_split=8, n_estimators=1000\n",
      "[CV 4/5; 28/72] END bootstrap=True, max_depth=139, max_features=2, min_samples_leaf=5, min_samples_split=8, n_estimators=1000; total time=  12.5s\n",
      "[CV 5/5; 28/72] START bootstrap=True, max_depth=139, max_features=2, min_samples_leaf=5, min_samples_split=8, n_estimators=1000\n",
      "[CV 5/5; 28/72] END bootstrap=True, max_depth=139, max_features=2, min_samples_leaf=5, min_samples_split=8, n_estimators=1000; total time=  11.7s\n",
      "[CV 1/5; 29/72] START bootstrap=True, max_depth=139, max_features=2, min_samples_leaf=5, min_samples_split=10, n_estimators=100\n",
      "[CV 1/5; 29/72] END bootstrap=True, max_depth=139, max_features=2, min_samples_leaf=5, min_samples_split=10, n_estimators=100; total time=   6.9s\n",
      "[CV 2/5; 29/72] START bootstrap=True, max_depth=139, max_features=2, min_samples_leaf=5, min_samples_split=10, n_estimators=100\n",
      "[CV 2/5; 29/72] END bootstrap=True, max_depth=139, max_features=2, min_samples_leaf=5, min_samples_split=10, n_estimators=100; total time=   7.2s\n",
      "[CV 3/5; 29/72] START bootstrap=True, max_depth=139, max_features=2, min_samples_leaf=5, min_samples_split=10, n_estimators=100\n",
      "[CV 3/5; 29/72] END bootstrap=True, max_depth=139, max_features=2, min_samples_leaf=5, min_samples_split=10, n_estimators=100; total time=   6.9s\n",
      "[CV 4/5; 29/72] START bootstrap=True, max_depth=139, max_features=2, min_samples_leaf=5, min_samples_split=10, n_estimators=100\n",
      "[CV 4/5; 29/72] END bootstrap=True, max_depth=139, max_features=2, min_samples_leaf=5, min_samples_split=10, n_estimators=100; total time=   6.7s\n",
      "[CV 5/5; 29/72] START bootstrap=True, max_depth=139, max_features=2, min_samples_leaf=5, min_samples_split=10, n_estimators=100\n",
      "[CV 5/5; 29/72] END bootstrap=True, max_depth=139, max_features=2, min_samples_leaf=5, min_samples_split=10, n_estimators=100; total time=   6.9s\n",
      "[CV 1/5; 30/72] START bootstrap=True, max_depth=139, max_features=2, min_samples_leaf=5, min_samples_split=10, n_estimators=200\n",
      "[CV 1/5; 30/72] END bootstrap=True, max_depth=139, max_features=2, min_samples_leaf=5, min_samples_split=10, n_estimators=200; total time=   7.9s\n",
      "[CV 2/5; 30/72] START bootstrap=True, max_depth=139, max_features=2, min_samples_leaf=5, min_samples_split=10, n_estimators=200\n",
      "[CV 2/5; 30/72] END bootstrap=True, max_depth=139, max_features=2, min_samples_leaf=5, min_samples_split=10, n_estimators=200; total time=   7.6s\n",
      "[CV 3/5; 30/72] START bootstrap=True, max_depth=139, max_features=2, min_samples_leaf=5, min_samples_split=10, n_estimators=200\n",
      "[CV 3/5; 30/72] END bootstrap=True, max_depth=139, max_features=2, min_samples_leaf=5, min_samples_split=10, n_estimators=200; total time=   8.0s\n",
      "[CV 4/5; 30/72] START bootstrap=True, max_depth=139, max_features=2, min_samples_leaf=5, min_samples_split=10, n_estimators=200\n",
      "[CV 4/5; 30/72] END bootstrap=True, max_depth=139, max_features=2, min_samples_leaf=5, min_samples_split=10, n_estimators=200; total time=   8.0s\n",
      "[CV 5/5; 30/72] START bootstrap=True, max_depth=139, max_features=2, min_samples_leaf=5, min_samples_split=10, n_estimators=200\n",
      "[CV 5/5; 30/72] END bootstrap=True, max_depth=139, max_features=2, min_samples_leaf=5, min_samples_split=10, n_estimators=200; total time=   7.8s\n",
      "[CV 1/5; 31/72] START bootstrap=True, max_depth=139, max_features=2, min_samples_leaf=5, min_samples_split=10, n_estimators=300\n",
      "[CV 1/5; 31/72] END bootstrap=True, max_depth=139, max_features=2, min_samples_leaf=5, min_samples_split=10, n_estimators=300; total time=   8.1s\n",
      "[CV 2/5; 31/72] START bootstrap=True, max_depth=139, max_features=2, min_samples_leaf=5, min_samples_split=10, n_estimators=300\n"
     ]
    },
    {
     "name": "stdout",
     "output_type": "stream",
     "text": [
      "[CV 2/5; 31/72] END bootstrap=True, max_depth=139, max_features=2, min_samples_leaf=5, min_samples_split=10, n_estimators=300; total time=   7.8s\n",
      "[CV 3/5; 31/72] START bootstrap=True, max_depth=139, max_features=2, min_samples_leaf=5, min_samples_split=10, n_estimators=300\n",
      "[CV 3/5; 31/72] END bootstrap=True, max_depth=139, max_features=2, min_samples_leaf=5, min_samples_split=10, n_estimators=300; total time=   8.5s\n",
      "[CV 4/5; 31/72] START bootstrap=True, max_depth=139, max_features=2, min_samples_leaf=5, min_samples_split=10, n_estimators=300\n",
      "[CV 4/5; 31/72] END bootstrap=True, max_depth=139, max_features=2, min_samples_leaf=5, min_samples_split=10, n_estimators=300; total time=   7.9s\n",
      "[CV 5/5; 31/72] START bootstrap=True, max_depth=139, max_features=2, min_samples_leaf=5, min_samples_split=10, n_estimators=300\n",
      "[CV 5/5; 31/72] END bootstrap=True, max_depth=139, max_features=2, min_samples_leaf=5, min_samples_split=10, n_estimators=300; total time=   7.6s\n",
      "[CV 1/5; 32/72] START bootstrap=True, max_depth=139, max_features=2, min_samples_leaf=5, min_samples_split=10, n_estimators=1000\n",
      "[CV 1/5; 32/72] END bootstrap=True, max_depth=139, max_features=2, min_samples_leaf=5, min_samples_split=10, n_estimators=1000; total time=  12.3s\n",
      "[CV 2/5; 32/72] START bootstrap=True, max_depth=139, max_features=2, min_samples_leaf=5, min_samples_split=10, n_estimators=1000\n",
      "[CV 2/5; 32/72] END bootstrap=True, max_depth=139, max_features=2, min_samples_leaf=5, min_samples_split=10, n_estimators=1000; total time=  12.2s\n",
      "[CV 3/5; 32/72] START bootstrap=True, max_depth=139, max_features=2, min_samples_leaf=5, min_samples_split=10, n_estimators=1000\n",
      "[CV 3/5; 32/72] END bootstrap=True, max_depth=139, max_features=2, min_samples_leaf=5, min_samples_split=10, n_estimators=1000; total time=  12.2s\n",
      "[CV 4/5; 32/72] START bootstrap=True, max_depth=139, max_features=2, min_samples_leaf=5, min_samples_split=10, n_estimators=1000\n",
      "[CV 4/5; 32/72] END bootstrap=True, max_depth=139, max_features=2, min_samples_leaf=5, min_samples_split=10, n_estimators=1000; total time=  10.4s\n",
      "[CV 5/5; 32/72] START bootstrap=True, max_depth=139, max_features=2, min_samples_leaf=5, min_samples_split=10, n_estimators=1000\n",
      "[CV 5/5; 32/72] END bootstrap=True, max_depth=139, max_features=2, min_samples_leaf=5, min_samples_split=10, n_estimators=1000; total time=  12.3s\n",
      "[CV 1/5; 33/72] START bootstrap=True, max_depth=139, max_features=2, min_samples_leaf=5, min_samples_split=12, n_estimators=100\n",
      "[CV 1/5; 33/72] END bootstrap=True, max_depth=139, max_features=2, min_samples_leaf=5, min_samples_split=12, n_estimators=100; total time=   8.0s\n",
      "[CV 2/5; 33/72] START bootstrap=True, max_depth=139, max_features=2, min_samples_leaf=5, min_samples_split=12, n_estimators=100\n",
      "[CV 2/5; 33/72] END bootstrap=True, max_depth=139, max_features=2, min_samples_leaf=5, min_samples_split=12, n_estimators=100; total time=   7.9s\n",
      "[CV 3/5; 33/72] START bootstrap=True, max_depth=139, max_features=2, min_samples_leaf=5, min_samples_split=12, n_estimators=100\n",
      "[CV 3/5; 33/72] END bootstrap=True, max_depth=139, max_features=2, min_samples_leaf=5, min_samples_split=12, n_estimators=100; total time=   7.7s\n",
      "[CV 4/5; 33/72] START bootstrap=True, max_depth=139, max_features=2, min_samples_leaf=5, min_samples_split=12, n_estimators=100\n",
      "[CV 4/5; 33/72] END bootstrap=True, max_depth=139, max_features=2, min_samples_leaf=5, min_samples_split=12, n_estimators=100; total time=   8.0s\n",
      "[CV 5/5; 33/72] START bootstrap=True, max_depth=139, max_features=2, min_samples_leaf=5, min_samples_split=12, n_estimators=100\n",
      "[CV 5/5; 33/72] END bootstrap=True, max_depth=139, max_features=2, min_samples_leaf=5, min_samples_split=12, n_estimators=100; total time=   8.0s\n",
      "[CV 1/5; 34/72] START bootstrap=True, max_depth=139, max_features=2, min_samples_leaf=5, min_samples_split=12, n_estimators=200\n",
      "[CV 1/5; 34/72] END bootstrap=True, max_depth=139, max_features=2, min_samples_leaf=5, min_samples_split=12, n_estimators=200; total time=   8.3s\n",
      "[CV 2/5; 34/72] START bootstrap=True, max_depth=139, max_features=2, min_samples_leaf=5, min_samples_split=12, n_estimators=200\n",
      "[CV 2/5; 34/72] END bootstrap=True, max_depth=139, max_features=2, min_samples_leaf=5, min_samples_split=12, n_estimators=200; total time=   8.5s\n",
      "[CV 3/5; 34/72] START bootstrap=True, max_depth=139, max_features=2, min_samples_leaf=5, min_samples_split=12, n_estimators=200\n",
      "[CV 3/5; 34/72] END bootstrap=True, max_depth=139, max_features=2, min_samples_leaf=5, min_samples_split=12, n_estimators=200; total time=   8.7s\n",
      "[CV 4/5; 34/72] START bootstrap=True, max_depth=139, max_features=2, min_samples_leaf=5, min_samples_split=12, n_estimators=200\n",
      "[CV 4/5; 34/72] END bootstrap=True, max_depth=139, max_features=2, min_samples_leaf=5, min_samples_split=12, n_estimators=200; total time=   8.6s\n",
      "[CV 5/5; 34/72] START bootstrap=True, max_depth=139, max_features=2, min_samples_leaf=5, min_samples_split=12, n_estimators=200\n",
      "[CV 5/5; 34/72] END bootstrap=True, max_depth=139, max_features=2, min_samples_leaf=5, min_samples_split=12, n_estimators=200; total time=   8.5s\n",
      "[CV 1/5; 35/72] START bootstrap=True, max_depth=139, max_features=2, min_samples_leaf=5, min_samples_split=12, n_estimators=300\n",
      "[CV 1/5; 35/72] END bootstrap=True, max_depth=139, max_features=2, min_samples_leaf=5, min_samples_split=12, n_estimators=300; total time=   9.1s\n",
      "[CV 2/5; 35/72] START bootstrap=True, max_depth=139, max_features=2, min_samples_leaf=5, min_samples_split=12, n_estimators=300\n",
      "[CV 2/5; 35/72] END bootstrap=True, max_depth=139, max_features=2, min_samples_leaf=5, min_samples_split=12, n_estimators=300; total time=   8.8s\n",
      "[CV 3/5; 35/72] START bootstrap=True, max_depth=139, max_features=2, min_samples_leaf=5, min_samples_split=12, n_estimators=300\n",
      "[CV 3/5; 35/72] END bootstrap=True, max_depth=139, max_features=2, min_samples_leaf=5, min_samples_split=12, n_estimators=300; total time=   9.2s\n",
      "[CV 4/5; 35/72] START bootstrap=True, max_depth=139, max_features=2, min_samples_leaf=5, min_samples_split=12, n_estimators=300\n",
      "[CV 4/5; 35/72] END bootstrap=True, max_depth=139, max_features=2, min_samples_leaf=5, min_samples_split=12, n_estimators=300; total time=   9.2s\n",
      "[CV 5/5; 35/72] START bootstrap=True, max_depth=139, max_features=2, min_samples_leaf=5, min_samples_split=12, n_estimators=300\n",
      "[CV 5/5; 35/72] END bootstrap=True, max_depth=139, max_features=2, min_samples_leaf=5, min_samples_split=12, n_estimators=300; total time=   9.1s\n",
      "[CV 1/5; 36/72] START bootstrap=True, max_depth=139, max_features=2, min_samples_leaf=5, min_samples_split=12, n_estimators=1000\n",
      "[CV 1/5; 36/72] END bootstrap=True, max_depth=139, max_features=2, min_samples_leaf=5, min_samples_split=12, n_estimators=1000; total time=  13.0s\n",
      "[CV 2/5; 36/72] START bootstrap=True, max_depth=139, max_features=2, min_samples_leaf=5, min_samples_split=12, n_estimators=1000\n",
      "[CV 2/5; 36/72] END bootstrap=True, max_depth=139, max_features=2, min_samples_leaf=5, min_samples_split=12, n_estimators=1000; total time=  12.7s\n",
      "[CV 3/5; 36/72] START bootstrap=True, max_depth=139, max_features=2, min_samples_leaf=5, min_samples_split=12, n_estimators=1000\n",
      "[CV 3/5; 36/72] END bootstrap=True, max_depth=139, max_features=2, min_samples_leaf=5, min_samples_split=12, n_estimators=1000; total time=  12.3s\n",
      "[CV 4/5; 36/72] START bootstrap=True, max_depth=139, max_features=2, min_samples_leaf=5, min_samples_split=12, n_estimators=1000\n",
      "[CV 4/5; 36/72] END bootstrap=True, max_depth=139, max_features=2, min_samples_leaf=5, min_samples_split=12, n_estimators=1000; total time=  12.2s\n",
      "[CV 5/5; 36/72] START bootstrap=True, max_depth=139, max_features=2, min_samples_leaf=5, min_samples_split=12, n_estimators=1000\n",
      "[CV 5/5; 36/72] END bootstrap=True, max_depth=139, max_features=2, min_samples_leaf=5, min_samples_split=12, n_estimators=1000; total time=  12.7s\n",
      "[CV 1/5; 37/72] START bootstrap=True, max_depth=139, max_features=3, min_samples_leaf=3, min_samples_split=8, n_estimators=100\n",
      "[CV 1/5; 37/72] END bootstrap=True, max_depth=139, max_features=3, min_samples_leaf=3, min_samples_split=8, n_estimators=100; total time=   7.7s\n",
      "[CV 2/5; 37/72] START bootstrap=True, max_depth=139, max_features=3, min_samples_leaf=3, min_samples_split=8, n_estimators=100\n"
     ]
    },
    {
     "name": "stdout",
     "output_type": "stream",
     "text": [
      "[CV 2/5; 37/72] END bootstrap=True, max_depth=139, max_features=3, min_samples_leaf=3, min_samples_split=8, n_estimators=100; total time=   6.4s\n",
      "[CV 3/5; 37/72] START bootstrap=True, max_depth=139, max_features=3, min_samples_leaf=3, min_samples_split=8, n_estimators=100\n",
      "[CV 3/5; 37/72] END bootstrap=True, max_depth=139, max_features=3, min_samples_leaf=3, min_samples_split=8, n_estimators=100; total time=   8.1s\n",
      "[CV 4/5; 37/72] START bootstrap=True, max_depth=139, max_features=3, min_samples_leaf=3, min_samples_split=8, n_estimators=100\n",
      "[CV 4/5; 37/72] END bootstrap=True, max_depth=139, max_features=3, min_samples_leaf=3, min_samples_split=8, n_estimators=100; total time=   8.5s\n",
      "[CV 5/5; 37/72] START bootstrap=True, max_depth=139, max_features=3, min_samples_leaf=3, min_samples_split=8, n_estimators=100\n",
      "[CV 5/5; 37/72] END bootstrap=True, max_depth=139, max_features=3, min_samples_leaf=3, min_samples_split=8, n_estimators=100; total time=   7.9s\n",
      "[CV 1/5; 38/72] START bootstrap=True, max_depth=139, max_features=3, min_samples_leaf=3, min_samples_split=8, n_estimators=200\n",
      "[CV 1/5; 38/72] END bootstrap=True, max_depth=139, max_features=3, min_samples_leaf=3, min_samples_split=8, n_estimators=200; total time=   8.4s\n",
      "[CV 2/5; 38/72] START bootstrap=True, max_depth=139, max_features=3, min_samples_leaf=3, min_samples_split=8, n_estimators=200\n",
      "[CV 2/5; 38/72] END bootstrap=True, max_depth=139, max_features=3, min_samples_leaf=3, min_samples_split=8, n_estimators=200; total time=   8.5s\n",
      "[CV 3/5; 38/72] START bootstrap=True, max_depth=139, max_features=3, min_samples_leaf=3, min_samples_split=8, n_estimators=200\n",
      "[CV 3/5; 38/72] END bootstrap=True, max_depth=139, max_features=3, min_samples_leaf=3, min_samples_split=8, n_estimators=200; total time=   7.8s\n",
      "[CV 4/5; 38/72] START bootstrap=True, max_depth=139, max_features=3, min_samples_leaf=3, min_samples_split=8, n_estimators=200\n",
      "[CV 4/5; 38/72] END bootstrap=True, max_depth=139, max_features=3, min_samples_leaf=3, min_samples_split=8, n_estimators=200; total time=   8.2s\n",
      "[CV 5/5; 38/72] START bootstrap=True, max_depth=139, max_features=3, min_samples_leaf=3, min_samples_split=8, n_estimators=200\n",
      "[CV 5/5; 38/72] END bootstrap=True, max_depth=139, max_features=3, min_samples_leaf=3, min_samples_split=8, n_estimators=200; total time=   8.6s\n",
      "[CV 1/5; 39/72] START bootstrap=True, max_depth=139, max_features=3, min_samples_leaf=3, min_samples_split=8, n_estimators=300\n",
      "[CV 1/5; 39/72] END bootstrap=True, max_depth=139, max_features=3, min_samples_leaf=3, min_samples_split=8, n_estimators=300; total time=   8.9s\n",
      "[CV 2/5; 39/72] START bootstrap=True, max_depth=139, max_features=3, min_samples_leaf=3, min_samples_split=8, n_estimators=300\n",
      "[CV 2/5; 39/72] END bootstrap=True, max_depth=139, max_features=3, min_samples_leaf=3, min_samples_split=8, n_estimators=300; total time=   9.0s\n",
      "[CV 3/5; 39/72] START bootstrap=True, max_depth=139, max_features=3, min_samples_leaf=3, min_samples_split=8, n_estimators=300\n",
      "[CV 3/5; 39/72] END bootstrap=True, max_depth=139, max_features=3, min_samples_leaf=3, min_samples_split=8, n_estimators=300; total time=   8.4s\n",
      "[CV 4/5; 39/72] START bootstrap=True, max_depth=139, max_features=3, min_samples_leaf=3, min_samples_split=8, n_estimators=300\n",
      "[CV 4/5; 39/72] END bootstrap=True, max_depth=139, max_features=3, min_samples_leaf=3, min_samples_split=8, n_estimators=300; total time=   9.0s\n",
      "[CV 5/5; 39/72] START bootstrap=True, max_depth=139, max_features=3, min_samples_leaf=3, min_samples_split=8, n_estimators=300\n",
      "[CV 5/5; 39/72] END bootstrap=True, max_depth=139, max_features=3, min_samples_leaf=3, min_samples_split=8, n_estimators=300; total time=   9.3s\n",
      "[CV 1/5; 40/72] START bootstrap=True, max_depth=139, max_features=3, min_samples_leaf=3, min_samples_split=8, n_estimators=1000\n",
      "[CV 1/5; 40/72] END bootstrap=True, max_depth=139, max_features=3, min_samples_leaf=3, min_samples_split=8, n_estimators=1000; total time=  11.1s\n",
      "[CV 2/5; 40/72] START bootstrap=True, max_depth=139, max_features=3, min_samples_leaf=3, min_samples_split=8, n_estimators=1000\n",
      "[CV 2/5; 40/72] END bootstrap=True, max_depth=139, max_features=3, min_samples_leaf=3, min_samples_split=8, n_estimators=1000; total time=  11.4s\n",
      "[CV 3/5; 40/72] START bootstrap=True, max_depth=139, max_features=3, min_samples_leaf=3, min_samples_split=8, n_estimators=1000\n",
      "[CV 3/5; 40/72] END bootstrap=True, max_depth=139, max_features=3, min_samples_leaf=3, min_samples_split=8, n_estimators=1000; total time=  13.4s\n",
      "[CV 4/5; 40/72] START bootstrap=True, max_depth=139, max_features=3, min_samples_leaf=3, min_samples_split=8, n_estimators=1000\n",
      "[CV 4/5; 40/72] END bootstrap=True, max_depth=139, max_features=3, min_samples_leaf=3, min_samples_split=8, n_estimators=1000; total time=  13.5s\n",
      "[CV 5/5; 40/72] START bootstrap=True, max_depth=139, max_features=3, min_samples_leaf=3, min_samples_split=8, n_estimators=1000\n",
      "[CV 5/5; 40/72] END bootstrap=True, max_depth=139, max_features=3, min_samples_leaf=3, min_samples_split=8, n_estimators=1000; total time=  12.9s\n",
      "[CV 1/5; 41/72] START bootstrap=True, max_depth=139, max_features=3, min_samples_leaf=3, min_samples_split=10, n_estimators=100\n",
      "[CV 1/5; 41/72] END bootstrap=True, max_depth=139, max_features=3, min_samples_leaf=3, min_samples_split=10, n_estimators=100; total time=   7.8s\n",
      "[CV 2/5; 41/72] START bootstrap=True, max_depth=139, max_features=3, min_samples_leaf=3, min_samples_split=10, n_estimators=100\n",
      "[CV 2/5; 41/72] END bootstrap=True, max_depth=139, max_features=3, min_samples_leaf=3, min_samples_split=10, n_estimators=100; total time=   7.8s\n",
      "[CV 3/5; 41/72] START bootstrap=True, max_depth=139, max_features=3, min_samples_leaf=3, min_samples_split=10, n_estimators=100\n",
      "[CV 3/5; 41/72] END bootstrap=True, max_depth=139, max_features=3, min_samples_leaf=3, min_samples_split=10, n_estimators=100; total time=   7.7s\n",
      "[CV 4/5; 41/72] START bootstrap=True, max_depth=139, max_features=3, min_samples_leaf=3, min_samples_split=10, n_estimators=100\n",
      "[CV 4/5; 41/72] END bootstrap=True, max_depth=139, max_features=3, min_samples_leaf=3, min_samples_split=10, n_estimators=100; total time=   7.9s\n",
      "[CV 5/5; 41/72] START bootstrap=True, max_depth=139, max_features=3, min_samples_leaf=3, min_samples_split=10, n_estimators=100\n",
      "[CV 5/5; 41/72] END bootstrap=True, max_depth=139, max_features=3, min_samples_leaf=3, min_samples_split=10, n_estimators=100; total time=   7.7s\n",
      "[CV 1/5; 42/72] START bootstrap=True, max_depth=139, max_features=3, min_samples_leaf=3, min_samples_split=10, n_estimators=200\n",
      "[CV 1/5; 42/72] END bootstrap=True, max_depth=139, max_features=3, min_samples_leaf=3, min_samples_split=10, n_estimators=200; total time=   8.6s\n",
      "[CV 2/5; 42/72] START bootstrap=True, max_depth=139, max_features=3, min_samples_leaf=3, min_samples_split=10, n_estimators=200\n",
      "[CV 2/5; 42/72] END bootstrap=True, max_depth=139, max_features=3, min_samples_leaf=3, min_samples_split=10, n_estimators=200; total time=   8.6s\n",
      "[CV 3/5; 42/72] START bootstrap=True, max_depth=139, max_features=3, min_samples_leaf=3, min_samples_split=10, n_estimators=200\n",
      "[CV 3/5; 42/72] END bootstrap=True, max_depth=139, max_features=3, min_samples_leaf=3, min_samples_split=10, n_estimators=200; total time=   8.7s\n",
      "[CV 4/5; 42/72] START bootstrap=True, max_depth=139, max_features=3, min_samples_leaf=3, min_samples_split=10, n_estimators=200\n",
      "[CV 4/5; 42/72] END bootstrap=True, max_depth=139, max_features=3, min_samples_leaf=3, min_samples_split=10, n_estimators=200; total time=   8.4s\n",
      "[CV 5/5; 42/72] START bootstrap=True, max_depth=139, max_features=3, min_samples_leaf=3, min_samples_split=10, n_estimators=200\n",
      "[CV 5/5; 42/72] END bootstrap=True, max_depth=139, max_features=3, min_samples_leaf=3, min_samples_split=10, n_estimators=200; total time=   8.9s\n",
      "[CV 1/5; 43/72] START bootstrap=True, max_depth=139, max_features=3, min_samples_leaf=3, min_samples_split=10, n_estimators=300\n",
      "[CV 1/5; 43/72] END bootstrap=True, max_depth=139, max_features=3, min_samples_leaf=3, min_samples_split=10, n_estimators=300; total time=   9.4s\n",
      "[CV 2/5; 43/72] START bootstrap=True, max_depth=139, max_features=3, min_samples_leaf=3, min_samples_split=10, n_estimators=300\n"
     ]
    },
    {
     "name": "stdout",
     "output_type": "stream",
     "text": [
      "[CV 2/5; 43/72] END bootstrap=True, max_depth=139, max_features=3, min_samples_leaf=3, min_samples_split=10, n_estimators=300; total time=   8.7s\n",
      "[CV 3/5; 43/72] START bootstrap=True, max_depth=139, max_features=3, min_samples_leaf=3, min_samples_split=10, n_estimators=300\n",
      "[CV 3/5; 43/72] END bootstrap=True, max_depth=139, max_features=3, min_samples_leaf=3, min_samples_split=10, n_estimators=300; total time=   8.3s\n",
      "[CV 4/5; 43/72] START bootstrap=True, max_depth=139, max_features=3, min_samples_leaf=3, min_samples_split=10, n_estimators=300\n",
      "[CV 4/5; 43/72] END bootstrap=True, max_depth=139, max_features=3, min_samples_leaf=3, min_samples_split=10, n_estimators=300; total time=   8.7s\n",
      "[CV 5/5; 43/72] START bootstrap=True, max_depth=139, max_features=3, min_samples_leaf=3, min_samples_split=10, n_estimators=300\n",
      "[CV 5/5; 43/72] END bootstrap=True, max_depth=139, max_features=3, min_samples_leaf=3, min_samples_split=10, n_estimators=300; total time=   9.0s\n",
      "[CV 1/5; 44/72] START bootstrap=True, max_depth=139, max_features=3, min_samples_leaf=3, min_samples_split=10, n_estimators=1000\n",
      "[CV 1/5; 44/72] END bootstrap=True, max_depth=139, max_features=3, min_samples_leaf=3, min_samples_split=10, n_estimators=1000; total time=  13.6s\n",
      "[CV 2/5; 44/72] START bootstrap=True, max_depth=139, max_features=3, min_samples_leaf=3, min_samples_split=10, n_estimators=1000\n",
      "[CV 2/5; 44/72] END bootstrap=True, max_depth=139, max_features=3, min_samples_leaf=3, min_samples_split=10, n_estimators=1000; total time=  12.2s\n",
      "[CV 3/5; 44/72] START bootstrap=True, max_depth=139, max_features=3, min_samples_leaf=3, min_samples_split=10, n_estimators=1000\n",
      "[CV 3/5; 44/72] END bootstrap=True, max_depth=139, max_features=3, min_samples_leaf=3, min_samples_split=10, n_estimators=1000; total time=  12.2s\n",
      "[CV 4/5; 44/72] START bootstrap=True, max_depth=139, max_features=3, min_samples_leaf=3, min_samples_split=10, n_estimators=1000\n",
      "[CV 4/5; 44/72] END bootstrap=True, max_depth=139, max_features=3, min_samples_leaf=3, min_samples_split=10, n_estimators=1000; total time=  11.0s\n",
      "[CV 5/5; 44/72] START bootstrap=True, max_depth=139, max_features=3, min_samples_leaf=3, min_samples_split=10, n_estimators=1000\n",
      "[CV 5/5; 44/72] END bootstrap=True, max_depth=139, max_features=3, min_samples_leaf=3, min_samples_split=10, n_estimators=1000; total time=  11.2s\n",
      "[CV 1/5; 45/72] START bootstrap=True, max_depth=139, max_features=3, min_samples_leaf=3, min_samples_split=12, n_estimators=100\n",
      "[CV 1/5; 45/72] END bootstrap=True, max_depth=139, max_features=3, min_samples_leaf=3, min_samples_split=12, n_estimators=100; total time=   7.6s\n",
      "[CV 2/5; 45/72] START bootstrap=True, max_depth=139, max_features=3, min_samples_leaf=3, min_samples_split=12, n_estimators=100\n",
      "[CV 2/5; 45/72] END bootstrap=True, max_depth=139, max_features=3, min_samples_leaf=3, min_samples_split=12, n_estimators=100; total time=   6.5s\n",
      "[CV 3/5; 45/72] START bootstrap=True, max_depth=139, max_features=3, min_samples_leaf=3, min_samples_split=12, n_estimators=100\n",
      "[CV 3/5; 45/72] END bootstrap=True, max_depth=139, max_features=3, min_samples_leaf=3, min_samples_split=12, n_estimators=100; total time=   6.7s\n",
      "[CV 4/5; 45/72] START bootstrap=True, max_depth=139, max_features=3, min_samples_leaf=3, min_samples_split=12, n_estimators=100\n",
      "[CV 4/5; 45/72] END bootstrap=True, max_depth=139, max_features=3, min_samples_leaf=3, min_samples_split=12, n_estimators=100; total time=   6.8s\n",
      "[CV 5/5; 45/72] START bootstrap=True, max_depth=139, max_features=3, min_samples_leaf=3, min_samples_split=12, n_estimators=100\n",
      "[CV 5/5; 45/72] END bootstrap=True, max_depth=139, max_features=3, min_samples_leaf=3, min_samples_split=12, n_estimators=100; total time=   7.2s\n",
      "[CV 1/5; 46/72] START bootstrap=True, max_depth=139, max_features=3, min_samples_leaf=3, min_samples_split=12, n_estimators=200\n",
      "[CV 1/5; 46/72] END bootstrap=True, max_depth=139, max_features=3, min_samples_leaf=3, min_samples_split=12, n_estimators=200; total time=   7.3s\n",
      "[CV 2/5; 46/72] START bootstrap=True, max_depth=139, max_features=3, min_samples_leaf=3, min_samples_split=12, n_estimators=200\n",
      "[CV 2/5; 46/72] END bootstrap=True, max_depth=139, max_features=3, min_samples_leaf=3, min_samples_split=12, n_estimators=200; total time=   7.2s\n",
      "[CV 3/5; 46/72] START bootstrap=True, max_depth=139, max_features=3, min_samples_leaf=3, min_samples_split=12, n_estimators=200\n",
      "[CV 3/5; 46/72] END bootstrap=True, max_depth=139, max_features=3, min_samples_leaf=3, min_samples_split=12, n_estimators=200; total time=   6.9s\n",
      "[CV 4/5; 46/72] START bootstrap=True, max_depth=139, max_features=3, min_samples_leaf=3, min_samples_split=12, n_estimators=200\n",
      "[CV 4/5; 46/72] END bootstrap=True, max_depth=139, max_features=3, min_samples_leaf=3, min_samples_split=12, n_estimators=200; total time=   7.0s\n",
      "[CV 5/5; 46/72] START bootstrap=True, max_depth=139, max_features=3, min_samples_leaf=3, min_samples_split=12, n_estimators=200\n",
      "[CV 5/5; 46/72] END bootstrap=True, max_depth=139, max_features=3, min_samples_leaf=3, min_samples_split=12, n_estimators=200; total time=   7.3s\n",
      "[CV 1/5; 47/72] START bootstrap=True, max_depth=139, max_features=3, min_samples_leaf=3, min_samples_split=12, n_estimators=300\n",
      "[CV 1/5; 47/72] END bootstrap=True, max_depth=139, max_features=3, min_samples_leaf=3, min_samples_split=12, n_estimators=300; total time=   7.5s\n",
      "[CV 2/5; 47/72] START bootstrap=True, max_depth=139, max_features=3, min_samples_leaf=3, min_samples_split=12, n_estimators=300\n",
      "[CV 2/5; 47/72] END bootstrap=True, max_depth=139, max_features=3, min_samples_leaf=3, min_samples_split=12, n_estimators=300; total time=   7.8s\n",
      "[CV 3/5; 47/72] START bootstrap=True, max_depth=139, max_features=3, min_samples_leaf=3, min_samples_split=12, n_estimators=300\n",
      "[CV 3/5; 47/72] END bootstrap=True, max_depth=139, max_features=3, min_samples_leaf=3, min_samples_split=12, n_estimators=300; total time=   7.7s\n",
      "[CV 4/5; 47/72] START bootstrap=True, max_depth=139, max_features=3, min_samples_leaf=3, min_samples_split=12, n_estimators=300\n",
      "[CV 4/5; 47/72] END bootstrap=True, max_depth=139, max_features=3, min_samples_leaf=3, min_samples_split=12, n_estimators=300; total time=   7.9s\n",
      "[CV 5/5; 47/72] START bootstrap=True, max_depth=139, max_features=3, min_samples_leaf=3, min_samples_split=12, n_estimators=300\n",
      "[CV 5/5; 47/72] END bootstrap=True, max_depth=139, max_features=3, min_samples_leaf=3, min_samples_split=12, n_estimators=300; total time=   7.5s\n",
      "[CV 1/5; 48/72] START bootstrap=True, max_depth=139, max_features=3, min_samples_leaf=3, min_samples_split=12, n_estimators=1000\n",
      "[CV 1/5; 48/72] END bootstrap=True, max_depth=139, max_features=3, min_samples_leaf=3, min_samples_split=12, n_estimators=1000; total time=  10.7s\n",
      "[CV 2/5; 48/72] START bootstrap=True, max_depth=139, max_features=3, min_samples_leaf=3, min_samples_split=12, n_estimators=1000\n",
      "[CV 2/5; 48/72] END bootstrap=True, max_depth=139, max_features=3, min_samples_leaf=3, min_samples_split=12, n_estimators=1000; total time=  11.6s\n",
      "[CV 3/5; 48/72] START bootstrap=True, max_depth=139, max_features=3, min_samples_leaf=3, min_samples_split=12, n_estimators=1000\n",
      "[CV 3/5; 48/72] END bootstrap=True, max_depth=139, max_features=3, min_samples_leaf=3, min_samples_split=12, n_estimators=1000; total time=  12.5s\n",
      "[CV 4/5; 48/72] START bootstrap=True, max_depth=139, max_features=3, min_samples_leaf=3, min_samples_split=12, n_estimators=1000\n",
      "[CV 4/5; 48/72] END bootstrap=True, max_depth=139, max_features=3, min_samples_leaf=3, min_samples_split=12, n_estimators=1000; total time=  14.0s\n",
      "[CV 5/5; 48/72] START bootstrap=True, max_depth=139, max_features=3, min_samples_leaf=3, min_samples_split=12, n_estimators=1000\n",
      "[CV 5/5; 48/72] END bootstrap=True, max_depth=139, max_features=3, min_samples_leaf=3, min_samples_split=12, n_estimators=1000; total time=  13.6s\n",
      "[CV 1/5; 49/72] START bootstrap=True, max_depth=139, max_features=3, min_samples_leaf=4, min_samples_split=8, n_estimators=100\n",
      "[CV 1/5; 49/72] END bootstrap=True, max_depth=139, max_features=3, min_samples_leaf=4, min_samples_split=8, n_estimators=100; total time=   8.7s\n",
      "[CV 2/5; 49/72] START bootstrap=True, max_depth=139, max_features=3, min_samples_leaf=4, min_samples_split=8, n_estimators=100\n"
     ]
    },
    {
     "name": "stdout",
     "output_type": "stream",
     "text": [
      "[CV 2/5; 49/72] END bootstrap=True, max_depth=139, max_features=3, min_samples_leaf=4, min_samples_split=8, n_estimators=100; total time=   7.7s\n",
      "[CV 3/5; 49/72] START bootstrap=True, max_depth=139, max_features=3, min_samples_leaf=4, min_samples_split=8, n_estimators=100\n",
      "[CV 3/5; 49/72] END bootstrap=True, max_depth=139, max_features=3, min_samples_leaf=4, min_samples_split=8, n_estimators=100; total time=   7.6s\n",
      "[CV 4/5; 49/72] START bootstrap=True, max_depth=139, max_features=3, min_samples_leaf=4, min_samples_split=8, n_estimators=100\n",
      "[CV 4/5; 49/72] END bootstrap=True, max_depth=139, max_features=3, min_samples_leaf=4, min_samples_split=8, n_estimators=100; total time=   7.1s\n",
      "[CV 5/5; 49/72] START bootstrap=True, max_depth=139, max_features=3, min_samples_leaf=4, min_samples_split=8, n_estimators=100\n",
      "[CV 5/5; 49/72] END bootstrap=True, max_depth=139, max_features=3, min_samples_leaf=4, min_samples_split=8, n_estimators=100; total time=   7.0s\n",
      "[CV 1/5; 50/72] START bootstrap=True, max_depth=139, max_features=3, min_samples_leaf=4, min_samples_split=8, n_estimators=200\n",
      "[CV 1/5; 50/72] END bootstrap=True, max_depth=139, max_features=3, min_samples_leaf=4, min_samples_split=8, n_estimators=200; total time=   7.0s\n",
      "[CV 2/5; 50/72] START bootstrap=True, max_depth=139, max_features=3, min_samples_leaf=4, min_samples_split=8, n_estimators=200\n",
      "[CV 2/5; 50/72] END bootstrap=True, max_depth=139, max_features=3, min_samples_leaf=4, min_samples_split=8, n_estimators=200; total time=   7.8s\n",
      "[CV 3/5; 50/72] START bootstrap=True, max_depth=139, max_features=3, min_samples_leaf=4, min_samples_split=8, n_estimators=200\n",
      "[CV 3/5; 50/72] END bootstrap=True, max_depth=139, max_features=3, min_samples_leaf=4, min_samples_split=8, n_estimators=200; total time=   7.8s\n",
      "[CV 4/5; 50/72] START bootstrap=True, max_depth=139, max_features=3, min_samples_leaf=4, min_samples_split=8, n_estimators=200\n",
      "[CV 4/5; 50/72] END bootstrap=True, max_depth=139, max_features=3, min_samples_leaf=4, min_samples_split=8, n_estimators=200; total time=   7.9s\n",
      "[CV 5/5; 50/72] START bootstrap=True, max_depth=139, max_features=3, min_samples_leaf=4, min_samples_split=8, n_estimators=200\n",
      "[CV 5/5; 50/72] END bootstrap=True, max_depth=139, max_features=3, min_samples_leaf=4, min_samples_split=8, n_estimators=200; total time=   8.1s\n",
      "[CV 1/5; 51/72] START bootstrap=True, max_depth=139, max_features=3, min_samples_leaf=4, min_samples_split=8, n_estimators=300\n",
      "[CV 1/5; 51/72] END bootstrap=True, max_depth=139, max_features=3, min_samples_leaf=4, min_samples_split=8, n_estimators=300; total time=   8.5s\n",
      "[CV 2/5; 51/72] START bootstrap=True, max_depth=139, max_features=3, min_samples_leaf=4, min_samples_split=8, n_estimators=300\n",
      "[CV 2/5; 51/72] END bootstrap=True, max_depth=139, max_features=3, min_samples_leaf=4, min_samples_split=8, n_estimators=300; total time=   7.9s\n",
      "[CV 3/5; 51/72] START bootstrap=True, max_depth=139, max_features=3, min_samples_leaf=4, min_samples_split=8, n_estimators=300\n",
      "[CV 3/5; 51/72] END bootstrap=True, max_depth=139, max_features=3, min_samples_leaf=4, min_samples_split=8, n_estimators=300; total time=   8.4s\n",
      "[CV 4/5; 51/72] START bootstrap=True, max_depth=139, max_features=3, min_samples_leaf=4, min_samples_split=8, n_estimators=300\n",
      "[CV 4/5; 51/72] END bootstrap=True, max_depth=139, max_features=3, min_samples_leaf=4, min_samples_split=8, n_estimators=300; total time=   8.3s\n",
      "[CV 5/5; 51/72] START bootstrap=True, max_depth=139, max_features=3, min_samples_leaf=4, min_samples_split=8, n_estimators=300\n",
      "[CV 5/5; 51/72] END bootstrap=True, max_depth=139, max_features=3, min_samples_leaf=4, min_samples_split=8, n_estimators=300; total time=   8.4s\n",
      "[CV 1/5; 52/72] START bootstrap=True, max_depth=139, max_features=3, min_samples_leaf=4, min_samples_split=8, n_estimators=1000\n",
      "[CV 1/5; 52/72] END bootstrap=True, max_depth=139, max_features=3, min_samples_leaf=4, min_samples_split=8, n_estimators=1000; total time=  11.6s\n",
      "[CV 2/5; 52/72] START bootstrap=True, max_depth=139, max_features=3, min_samples_leaf=4, min_samples_split=8, n_estimators=1000\n",
      "[CV 2/5; 52/72] END bootstrap=True, max_depth=139, max_features=3, min_samples_leaf=4, min_samples_split=8, n_estimators=1000; total time=  11.7s\n",
      "[CV 3/5; 52/72] START bootstrap=True, max_depth=139, max_features=3, min_samples_leaf=4, min_samples_split=8, n_estimators=1000\n",
      "[CV 3/5; 52/72] END bootstrap=True, max_depth=139, max_features=3, min_samples_leaf=4, min_samples_split=8, n_estimators=1000; total time=  11.8s\n",
      "[CV 4/5; 52/72] START bootstrap=True, max_depth=139, max_features=3, min_samples_leaf=4, min_samples_split=8, n_estimators=1000\n",
      "[CV 4/5; 52/72] END bootstrap=True, max_depth=139, max_features=3, min_samples_leaf=4, min_samples_split=8, n_estimators=1000; total time=  12.1s\n",
      "[CV 5/5; 52/72] START bootstrap=True, max_depth=139, max_features=3, min_samples_leaf=4, min_samples_split=8, n_estimators=1000\n",
      "[CV 5/5; 52/72] END bootstrap=True, max_depth=139, max_features=3, min_samples_leaf=4, min_samples_split=8, n_estimators=1000; total time=  13.1s\n",
      "[CV 1/5; 53/72] START bootstrap=True, max_depth=139, max_features=3, min_samples_leaf=4, min_samples_split=10, n_estimators=100\n",
      "[CV 1/5; 53/72] END bootstrap=True, max_depth=139, max_features=3, min_samples_leaf=4, min_samples_split=10, n_estimators=100; total time=   8.6s\n",
      "[CV 2/5; 53/72] START bootstrap=True, max_depth=139, max_features=3, min_samples_leaf=4, min_samples_split=10, n_estimators=100\n",
      "[CV 2/5; 53/72] END bootstrap=True, max_depth=139, max_features=3, min_samples_leaf=4, min_samples_split=10, n_estimators=100; total time=   8.5s\n",
      "[CV 3/5; 53/72] START bootstrap=True, max_depth=139, max_features=3, min_samples_leaf=4, min_samples_split=10, n_estimators=100\n",
      "[CV 3/5; 53/72] END bootstrap=True, max_depth=139, max_features=3, min_samples_leaf=4, min_samples_split=10, n_estimators=100; total time=   8.6s\n",
      "[CV 4/5; 53/72] START bootstrap=True, max_depth=139, max_features=3, min_samples_leaf=4, min_samples_split=10, n_estimators=100\n",
      "[CV 4/5; 53/72] END bootstrap=True, max_depth=139, max_features=3, min_samples_leaf=4, min_samples_split=10, n_estimators=100; total time=   8.1s\n",
      "[CV 5/5; 53/72] START bootstrap=True, max_depth=139, max_features=3, min_samples_leaf=4, min_samples_split=10, n_estimators=100\n",
      "[CV 5/5; 53/72] END bootstrap=True, max_depth=139, max_features=3, min_samples_leaf=4, min_samples_split=10, n_estimators=100; total time=   8.4s\n",
      "[CV 1/5; 54/72] START bootstrap=True, max_depth=139, max_features=3, min_samples_leaf=4, min_samples_split=10, n_estimators=200\n",
      "[CV 1/5; 54/72] END bootstrap=True, max_depth=139, max_features=3, min_samples_leaf=4, min_samples_split=10, n_estimators=200; total time=   9.2s\n",
      "[CV 2/5; 54/72] START bootstrap=True, max_depth=139, max_features=3, min_samples_leaf=4, min_samples_split=10, n_estimators=200\n",
      "[CV 2/5; 54/72] END bootstrap=True, max_depth=139, max_features=3, min_samples_leaf=4, min_samples_split=10, n_estimators=200; total time=   9.0s\n",
      "[CV 3/5; 54/72] START bootstrap=True, max_depth=139, max_features=3, min_samples_leaf=4, min_samples_split=10, n_estimators=200\n",
      "[CV 3/5; 54/72] END bootstrap=True, max_depth=139, max_features=3, min_samples_leaf=4, min_samples_split=10, n_estimators=200; total time=   8.9s\n",
      "[CV 4/5; 54/72] START bootstrap=True, max_depth=139, max_features=3, min_samples_leaf=4, min_samples_split=10, n_estimators=200\n",
      "[CV 4/5; 54/72] END bootstrap=True, max_depth=139, max_features=3, min_samples_leaf=4, min_samples_split=10, n_estimators=200; total time=   8.7s\n",
      "[CV 5/5; 54/72] START bootstrap=True, max_depth=139, max_features=3, min_samples_leaf=4, min_samples_split=10, n_estimators=200\n",
      "[CV 5/5; 54/72] END bootstrap=True, max_depth=139, max_features=3, min_samples_leaf=4, min_samples_split=10, n_estimators=200; total time=   9.0s\n",
      "[CV 1/5; 55/72] START bootstrap=True, max_depth=139, max_features=3, min_samples_leaf=4, min_samples_split=10, n_estimators=300\n",
      "[CV 1/5; 55/72] END bootstrap=True, max_depth=139, max_features=3, min_samples_leaf=4, min_samples_split=10, n_estimators=300; total time=   8.9s\n",
      "[CV 2/5; 55/72] START bootstrap=True, max_depth=139, max_features=3, min_samples_leaf=4, min_samples_split=10, n_estimators=300\n"
     ]
    },
    {
     "name": "stdout",
     "output_type": "stream",
     "text": [
      "[CV 2/5; 55/72] END bootstrap=True, max_depth=139, max_features=3, min_samples_leaf=4, min_samples_split=10, n_estimators=300; total time=   9.8s\n",
      "[CV 3/5; 55/72] START bootstrap=True, max_depth=139, max_features=3, min_samples_leaf=4, min_samples_split=10, n_estimators=300\n",
      "[CV 3/5; 55/72] END bootstrap=True, max_depth=139, max_features=3, min_samples_leaf=4, min_samples_split=10, n_estimators=300; total time=   8.9s\n",
      "[CV 4/5; 55/72] START bootstrap=True, max_depth=139, max_features=3, min_samples_leaf=4, min_samples_split=10, n_estimators=300\n",
      "[CV 4/5; 55/72] END bootstrap=True, max_depth=139, max_features=3, min_samples_leaf=4, min_samples_split=10, n_estimators=300; total time=   9.6s\n",
      "[CV 5/5; 55/72] START bootstrap=True, max_depth=139, max_features=3, min_samples_leaf=4, min_samples_split=10, n_estimators=300\n",
      "[CV 5/5; 55/72] END bootstrap=True, max_depth=139, max_features=3, min_samples_leaf=4, min_samples_split=10, n_estimators=300; total time=   9.4s\n",
      "[CV 1/5; 56/72] START bootstrap=True, max_depth=139, max_features=3, min_samples_leaf=4, min_samples_split=10, n_estimators=1000\n",
      "[CV 1/5; 56/72] END bootstrap=True, max_depth=139, max_features=3, min_samples_leaf=4, min_samples_split=10, n_estimators=1000; total time=  12.9s\n",
      "[CV 2/5; 56/72] START bootstrap=True, max_depth=139, max_features=3, min_samples_leaf=4, min_samples_split=10, n_estimators=1000\n",
      "[CV 2/5; 56/72] END bootstrap=True, max_depth=139, max_features=3, min_samples_leaf=4, min_samples_split=10, n_estimators=1000; total time=  13.0s\n",
      "[CV 3/5; 56/72] START bootstrap=True, max_depth=139, max_features=3, min_samples_leaf=4, min_samples_split=10, n_estimators=1000\n",
      "[CV 3/5; 56/72] END bootstrap=True, max_depth=139, max_features=3, min_samples_leaf=4, min_samples_split=10, n_estimators=1000; total time=  12.4s\n",
      "[CV 4/5; 56/72] START bootstrap=True, max_depth=139, max_features=3, min_samples_leaf=4, min_samples_split=10, n_estimators=1000\n",
      "[CV 4/5; 56/72] END bootstrap=True, max_depth=139, max_features=3, min_samples_leaf=4, min_samples_split=10, n_estimators=1000; total time=  12.0s\n",
      "[CV 5/5; 56/72] START bootstrap=True, max_depth=139, max_features=3, min_samples_leaf=4, min_samples_split=10, n_estimators=1000\n",
      "[CV 5/5; 56/72] END bootstrap=True, max_depth=139, max_features=3, min_samples_leaf=4, min_samples_split=10, n_estimators=1000; total time=  11.3s\n",
      "[CV 1/5; 57/72] START bootstrap=True, max_depth=139, max_features=3, min_samples_leaf=4, min_samples_split=12, n_estimators=100\n",
      "[CV 1/5; 57/72] END bootstrap=True, max_depth=139, max_features=3, min_samples_leaf=4, min_samples_split=12, n_estimators=100; total time=   7.3s\n",
      "[CV 2/5; 57/72] START bootstrap=True, max_depth=139, max_features=3, min_samples_leaf=4, min_samples_split=12, n_estimators=100\n",
      "[CV 2/5; 57/72] END bootstrap=True, max_depth=139, max_features=3, min_samples_leaf=4, min_samples_split=12, n_estimators=100; total time=   7.5s\n",
      "[CV 3/5; 57/72] START bootstrap=True, max_depth=139, max_features=3, min_samples_leaf=4, min_samples_split=12, n_estimators=100\n",
      "[CV 3/5; 57/72] END bootstrap=True, max_depth=139, max_features=3, min_samples_leaf=4, min_samples_split=12, n_estimators=100; total time=   7.4s\n",
      "[CV 4/5; 57/72] START bootstrap=True, max_depth=139, max_features=3, min_samples_leaf=4, min_samples_split=12, n_estimators=100\n",
      "[CV 4/5; 57/72] END bootstrap=True, max_depth=139, max_features=3, min_samples_leaf=4, min_samples_split=12, n_estimators=100; total time=   7.2s\n",
      "[CV 5/5; 57/72] START bootstrap=True, max_depth=139, max_features=3, min_samples_leaf=4, min_samples_split=12, n_estimators=100\n",
      "[CV 5/5; 57/72] END bootstrap=True, max_depth=139, max_features=3, min_samples_leaf=4, min_samples_split=12, n_estimators=100; total time=   8.1s\n",
      "[CV 1/5; 58/72] START bootstrap=True, max_depth=139, max_features=3, min_samples_leaf=4, min_samples_split=12, n_estimators=200\n",
      "[CV 1/5; 58/72] END bootstrap=True, max_depth=139, max_features=3, min_samples_leaf=4, min_samples_split=12, n_estimators=200; total time=   7.9s\n",
      "[CV 2/5; 58/72] START bootstrap=True, max_depth=139, max_features=3, min_samples_leaf=4, min_samples_split=12, n_estimators=200\n",
      "[CV 2/5; 58/72] END bootstrap=True, max_depth=139, max_features=3, min_samples_leaf=4, min_samples_split=12, n_estimators=200; total time=   7.1s\n",
      "[CV 3/5; 58/72] START bootstrap=True, max_depth=139, max_features=3, min_samples_leaf=4, min_samples_split=12, n_estimators=200\n",
      "[CV 3/5; 58/72] END bootstrap=True, max_depth=139, max_features=3, min_samples_leaf=4, min_samples_split=12, n_estimators=200; total time=   7.1s\n",
      "[CV 4/5; 58/72] START bootstrap=True, max_depth=139, max_features=3, min_samples_leaf=4, min_samples_split=12, n_estimators=200\n",
      "[CV 4/5; 58/72] END bootstrap=True, max_depth=139, max_features=3, min_samples_leaf=4, min_samples_split=12, n_estimators=200; total time=   6.8s\n",
      "[CV 5/5; 58/72] START bootstrap=True, max_depth=139, max_features=3, min_samples_leaf=4, min_samples_split=12, n_estimators=200\n",
      "[CV 5/5; 58/72] END bootstrap=True, max_depth=139, max_features=3, min_samples_leaf=4, min_samples_split=12, n_estimators=200; total time=   6.8s\n",
      "[CV 1/5; 59/72] START bootstrap=True, max_depth=139, max_features=3, min_samples_leaf=4, min_samples_split=12, n_estimators=300\n",
      "[CV 1/5; 59/72] END bootstrap=True, max_depth=139, max_features=3, min_samples_leaf=4, min_samples_split=12, n_estimators=300; total time=   8.7s\n",
      "[CV 2/5; 59/72] START bootstrap=True, max_depth=139, max_features=3, min_samples_leaf=4, min_samples_split=12, n_estimators=300\n",
      "[CV 2/5; 59/72] END bootstrap=True, max_depth=139, max_features=3, min_samples_leaf=4, min_samples_split=12, n_estimators=300; total time=   8.6s\n",
      "[CV 3/5; 59/72] START bootstrap=True, max_depth=139, max_features=3, min_samples_leaf=4, min_samples_split=12, n_estimators=300\n",
      "[CV 3/5; 59/72] END bootstrap=True, max_depth=139, max_features=3, min_samples_leaf=4, min_samples_split=12, n_estimators=300; total time=   8.6s\n",
      "[CV 4/5; 59/72] START bootstrap=True, max_depth=139, max_features=3, min_samples_leaf=4, min_samples_split=12, n_estimators=300\n",
      "[CV 4/5; 59/72] END bootstrap=True, max_depth=139, max_features=3, min_samples_leaf=4, min_samples_split=12, n_estimators=300; total time=   8.6s\n",
      "[CV 5/5; 59/72] START bootstrap=True, max_depth=139, max_features=3, min_samples_leaf=4, min_samples_split=12, n_estimators=300\n",
      "[CV 5/5; 59/72] END bootstrap=True, max_depth=139, max_features=3, min_samples_leaf=4, min_samples_split=12, n_estimators=300; total time=   8.7s\n",
      "[CV 1/5; 60/72] START bootstrap=True, max_depth=139, max_features=3, min_samples_leaf=4, min_samples_split=12, n_estimators=1000\n",
      "[CV 1/5; 60/72] END bootstrap=True, max_depth=139, max_features=3, min_samples_leaf=4, min_samples_split=12, n_estimators=1000; total time=  11.6s\n",
      "[CV 2/5; 60/72] START bootstrap=True, max_depth=139, max_features=3, min_samples_leaf=4, min_samples_split=12, n_estimators=1000\n",
      "[CV 2/5; 60/72] END bootstrap=True, max_depth=139, max_features=3, min_samples_leaf=4, min_samples_split=12, n_estimators=1000; total time=  11.6s\n",
      "[CV 3/5; 60/72] START bootstrap=True, max_depth=139, max_features=3, min_samples_leaf=4, min_samples_split=12, n_estimators=1000\n",
      "[CV 3/5; 60/72] END bootstrap=True, max_depth=139, max_features=3, min_samples_leaf=4, min_samples_split=12, n_estimators=1000; total time=  12.2s\n",
      "[CV 4/5; 60/72] START bootstrap=True, max_depth=139, max_features=3, min_samples_leaf=4, min_samples_split=12, n_estimators=1000\n",
      "[CV 4/5; 60/72] END bootstrap=True, max_depth=139, max_features=3, min_samples_leaf=4, min_samples_split=12, n_estimators=1000; total time=  12.7s\n",
      "[CV 5/5; 60/72] START bootstrap=True, max_depth=139, max_features=3, min_samples_leaf=4, min_samples_split=12, n_estimators=1000\n",
      "[CV 5/5; 60/72] END bootstrap=True, max_depth=139, max_features=3, min_samples_leaf=4, min_samples_split=12, n_estimators=1000; total time=  12.1s\n",
      "[CV 1/5; 61/72] START bootstrap=True, max_depth=139, max_features=3, min_samples_leaf=5, min_samples_split=8, n_estimators=100\n",
      "[CV 1/5; 61/72] END bootstrap=True, max_depth=139, max_features=3, min_samples_leaf=5, min_samples_split=8, n_estimators=100; total time=   7.7s\n",
      "[CV 2/5; 61/72] START bootstrap=True, max_depth=139, max_features=3, min_samples_leaf=5, min_samples_split=8, n_estimators=100\n"
     ]
    },
    {
     "name": "stdout",
     "output_type": "stream",
     "text": [
      "[CV 2/5; 61/72] END bootstrap=True, max_depth=139, max_features=3, min_samples_leaf=5, min_samples_split=8, n_estimators=100; total time=   7.4s\n",
      "[CV 3/5; 61/72] START bootstrap=True, max_depth=139, max_features=3, min_samples_leaf=5, min_samples_split=8, n_estimators=100\n",
      "[CV 3/5; 61/72] END bootstrap=True, max_depth=139, max_features=3, min_samples_leaf=5, min_samples_split=8, n_estimators=100; total time=   7.3s\n",
      "[CV 4/5; 61/72] START bootstrap=True, max_depth=139, max_features=3, min_samples_leaf=5, min_samples_split=8, n_estimators=100\n",
      "[CV 4/5; 61/72] END bootstrap=True, max_depth=139, max_features=3, min_samples_leaf=5, min_samples_split=8, n_estimators=100; total time=   7.4s\n",
      "[CV 5/5; 61/72] START bootstrap=True, max_depth=139, max_features=3, min_samples_leaf=5, min_samples_split=8, n_estimators=100\n",
      "[CV 5/5; 61/72] END bootstrap=True, max_depth=139, max_features=3, min_samples_leaf=5, min_samples_split=8, n_estimators=100; total time=   6.4s\n",
      "[CV 1/5; 62/72] START bootstrap=True, max_depth=139, max_features=3, min_samples_leaf=5, min_samples_split=8, n_estimators=200\n",
      "[CV 1/5; 62/72] END bootstrap=True, max_depth=139, max_features=3, min_samples_leaf=5, min_samples_split=8, n_estimators=200; total time=   7.1s\n",
      "[CV 2/5; 62/72] START bootstrap=True, max_depth=139, max_features=3, min_samples_leaf=5, min_samples_split=8, n_estimators=200\n",
      "[CV 2/5; 62/72] END bootstrap=True, max_depth=139, max_features=3, min_samples_leaf=5, min_samples_split=8, n_estimators=200; total time=   8.0s\n",
      "[CV 3/5; 62/72] START bootstrap=True, max_depth=139, max_features=3, min_samples_leaf=5, min_samples_split=8, n_estimators=200\n",
      "[CV 3/5; 62/72] END bootstrap=True, max_depth=139, max_features=3, min_samples_leaf=5, min_samples_split=8, n_estimators=200; total time=   8.3s\n",
      "[CV 4/5; 62/72] START bootstrap=True, max_depth=139, max_features=3, min_samples_leaf=5, min_samples_split=8, n_estimators=200\n",
      "[CV 4/5; 62/72] END bootstrap=True, max_depth=139, max_features=3, min_samples_leaf=5, min_samples_split=8, n_estimators=200; total time=   7.4s\n",
      "[CV 5/5; 62/72] START bootstrap=True, max_depth=139, max_features=3, min_samples_leaf=5, min_samples_split=8, n_estimators=200\n",
      "[CV 5/5; 62/72] END bootstrap=True, max_depth=139, max_features=3, min_samples_leaf=5, min_samples_split=8, n_estimators=200; total time=   7.1s\n",
      "[CV 1/5; 63/72] START bootstrap=True, max_depth=139, max_features=3, min_samples_leaf=5, min_samples_split=8, n_estimators=300\n",
      "[CV 1/5; 63/72] END bootstrap=True, max_depth=139, max_features=3, min_samples_leaf=5, min_samples_split=8, n_estimators=300; total time=   8.2s\n",
      "[CV 2/5; 63/72] START bootstrap=True, max_depth=139, max_features=3, min_samples_leaf=5, min_samples_split=8, n_estimators=300\n",
      "[CV 2/5; 63/72] END bootstrap=True, max_depth=139, max_features=3, min_samples_leaf=5, min_samples_split=8, n_estimators=300; total time=   8.6s\n",
      "[CV 3/5; 63/72] START bootstrap=True, max_depth=139, max_features=3, min_samples_leaf=5, min_samples_split=8, n_estimators=300\n",
      "[CV 3/5; 63/72] END bootstrap=True, max_depth=139, max_features=3, min_samples_leaf=5, min_samples_split=8, n_estimators=300; total time=   8.2s\n",
      "[CV 4/5; 63/72] START bootstrap=True, max_depth=139, max_features=3, min_samples_leaf=5, min_samples_split=8, n_estimators=300\n",
      "[CV 4/5; 63/72] END bootstrap=True, max_depth=139, max_features=3, min_samples_leaf=5, min_samples_split=8, n_estimators=300; total time=   8.4s\n",
      "[CV 5/5; 63/72] START bootstrap=True, max_depth=139, max_features=3, min_samples_leaf=5, min_samples_split=8, n_estimators=300\n",
      "[CV 5/5; 63/72] END bootstrap=True, max_depth=139, max_features=3, min_samples_leaf=5, min_samples_split=8, n_estimators=300; total time=   8.3s\n",
      "[CV 1/5; 64/72] START bootstrap=True, max_depth=139, max_features=3, min_samples_leaf=5, min_samples_split=8, n_estimators=1000\n",
      "[CV 1/5; 64/72] END bootstrap=True, max_depth=139, max_features=3, min_samples_leaf=5, min_samples_split=8, n_estimators=1000; total time=  11.9s\n",
      "[CV 2/5; 64/72] START bootstrap=True, max_depth=139, max_features=3, min_samples_leaf=5, min_samples_split=8, n_estimators=1000\n",
      "[CV 2/5; 64/72] END bootstrap=True, max_depth=139, max_features=3, min_samples_leaf=5, min_samples_split=8, n_estimators=1000; total time=  12.4s\n",
      "[CV 3/5; 64/72] START bootstrap=True, max_depth=139, max_features=3, min_samples_leaf=5, min_samples_split=8, n_estimators=1000\n",
      "[CV 3/5; 64/72] END bootstrap=True, max_depth=139, max_features=3, min_samples_leaf=5, min_samples_split=8, n_estimators=1000; total time=  12.7s\n",
      "[CV 4/5; 64/72] START bootstrap=True, max_depth=139, max_features=3, min_samples_leaf=5, min_samples_split=8, n_estimators=1000\n",
      "[CV 4/5; 64/72] END bootstrap=True, max_depth=139, max_features=3, min_samples_leaf=5, min_samples_split=8, n_estimators=1000; total time=  12.6s\n",
      "[CV 5/5; 64/72] START bootstrap=True, max_depth=139, max_features=3, min_samples_leaf=5, min_samples_split=8, n_estimators=1000\n",
      "[CV 5/5; 64/72] END bootstrap=True, max_depth=139, max_features=3, min_samples_leaf=5, min_samples_split=8, n_estimators=1000; total time=  12.7s\n",
      "[CV 1/5; 65/72] START bootstrap=True, max_depth=139, max_features=3, min_samples_leaf=5, min_samples_split=10, n_estimators=100\n",
      "[CV 1/5; 65/72] END bootstrap=True, max_depth=139, max_features=3, min_samples_leaf=5, min_samples_split=10, n_estimators=100; total time=   7.8s\n",
      "[CV 2/5; 65/72] START bootstrap=True, max_depth=139, max_features=3, min_samples_leaf=5, min_samples_split=10, n_estimators=100\n",
      "[CV 2/5; 65/72] END bootstrap=True, max_depth=139, max_features=3, min_samples_leaf=5, min_samples_split=10, n_estimators=100; total time=   7.5s\n",
      "[CV 3/5; 65/72] START bootstrap=True, max_depth=139, max_features=3, min_samples_leaf=5, min_samples_split=10, n_estimators=100\n",
      "[CV 3/5; 65/72] END bootstrap=True, max_depth=139, max_features=3, min_samples_leaf=5, min_samples_split=10, n_estimators=100; total time=   7.3s\n",
      "[CV 4/5; 65/72] START bootstrap=True, max_depth=139, max_features=3, min_samples_leaf=5, min_samples_split=10, n_estimators=100\n",
      "[CV 4/5; 65/72] END bootstrap=True, max_depth=139, max_features=3, min_samples_leaf=5, min_samples_split=10, n_estimators=100; total time=   7.5s\n",
      "[CV 5/5; 65/72] START bootstrap=True, max_depth=139, max_features=3, min_samples_leaf=5, min_samples_split=10, n_estimators=100\n",
      "[CV 5/5; 65/72] END bootstrap=True, max_depth=139, max_features=3, min_samples_leaf=5, min_samples_split=10, n_estimators=100; total time=   8.6s\n",
      "[CV 1/5; 66/72] START bootstrap=True, max_depth=139, max_features=3, min_samples_leaf=5, min_samples_split=10, n_estimators=200\n",
      "[CV 1/5; 66/72] END bootstrap=True, max_depth=139, max_features=3, min_samples_leaf=5, min_samples_split=10, n_estimators=200; total time=   8.7s\n",
      "[CV 2/5; 66/72] START bootstrap=True, max_depth=139, max_features=3, min_samples_leaf=5, min_samples_split=10, n_estimators=200\n",
      "[CV 2/5; 66/72] END bootstrap=True, max_depth=139, max_features=3, min_samples_leaf=5, min_samples_split=10, n_estimators=200; total time=   8.2s\n",
      "[CV 3/5; 66/72] START bootstrap=True, max_depth=139, max_features=3, min_samples_leaf=5, min_samples_split=10, n_estimators=200\n",
      "[CV 3/5; 66/72] END bootstrap=True, max_depth=139, max_features=3, min_samples_leaf=5, min_samples_split=10, n_estimators=200; total time=   8.1s\n",
      "[CV 4/5; 66/72] START bootstrap=True, max_depth=139, max_features=3, min_samples_leaf=5, min_samples_split=10, n_estimators=200\n",
      "[CV 4/5; 66/72] END bootstrap=True, max_depth=139, max_features=3, min_samples_leaf=5, min_samples_split=10, n_estimators=200; total time=   7.6s\n",
      "[CV 5/5; 66/72] START bootstrap=True, max_depth=139, max_features=3, min_samples_leaf=5, min_samples_split=10, n_estimators=200\n",
      "[CV 5/5; 66/72] END bootstrap=True, max_depth=139, max_features=3, min_samples_leaf=5, min_samples_split=10, n_estimators=200; total time=   7.7s\n",
      "[CV 1/5; 67/72] START bootstrap=True, max_depth=139, max_features=3, min_samples_leaf=5, min_samples_split=10, n_estimators=300\n",
      "[CV 1/5; 67/72] END bootstrap=True, max_depth=139, max_features=3, min_samples_leaf=5, min_samples_split=10, n_estimators=300; total time=   8.6s\n",
      "[CV 2/5; 67/72] START bootstrap=True, max_depth=139, max_features=3, min_samples_leaf=5, min_samples_split=10, n_estimators=300\n"
     ]
    },
    {
     "name": "stdout",
     "output_type": "stream",
     "text": [
      "[CV 2/5; 67/72] END bootstrap=True, max_depth=139, max_features=3, min_samples_leaf=5, min_samples_split=10, n_estimators=300; total time=   9.1s\n",
      "[CV 3/5; 67/72] START bootstrap=True, max_depth=139, max_features=3, min_samples_leaf=5, min_samples_split=10, n_estimators=300\n",
      "[CV 3/5; 67/72] END bootstrap=True, max_depth=139, max_features=3, min_samples_leaf=5, min_samples_split=10, n_estimators=300; total time=   8.7s\n",
      "[CV 4/5; 67/72] START bootstrap=True, max_depth=139, max_features=3, min_samples_leaf=5, min_samples_split=10, n_estimators=300\n",
      "[CV 4/5; 67/72] END bootstrap=True, max_depth=139, max_features=3, min_samples_leaf=5, min_samples_split=10, n_estimators=300; total time=   8.9s\n",
      "[CV 5/5; 67/72] START bootstrap=True, max_depth=139, max_features=3, min_samples_leaf=5, min_samples_split=10, n_estimators=300\n",
      "[CV 5/5; 67/72] END bootstrap=True, max_depth=139, max_features=3, min_samples_leaf=5, min_samples_split=10, n_estimators=300; total time=   8.3s\n",
      "[CV 1/5; 68/72] START bootstrap=True, max_depth=139, max_features=3, min_samples_leaf=5, min_samples_split=10, n_estimators=1000\n",
      "[CV 1/5; 68/72] END bootstrap=True, max_depth=139, max_features=3, min_samples_leaf=5, min_samples_split=10, n_estimators=1000; total time=  12.1s\n",
      "[CV 2/5; 68/72] START bootstrap=True, max_depth=139, max_features=3, min_samples_leaf=5, min_samples_split=10, n_estimators=1000\n",
      "[CV 2/5; 68/72] END bootstrap=True, max_depth=139, max_features=3, min_samples_leaf=5, min_samples_split=10, n_estimators=1000; total time=  11.8s\n",
      "[CV 3/5; 68/72] START bootstrap=True, max_depth=139, max_features=3, min_samples_leaf=5, min_samples_split=10, n_estimators=1000\n",
      "[CV 3/5; 68/72] END bootstrap=True, max_depth=139, max_features=3, min_samples_leaf=5, min_samples_split=10, n_estimators=1000; total time=  11.8s\n",
      "[CV 4/5; 68/72] START bootstrap=True, max_depth=139, max_features=3, min_samples_leaf=5, min_samples_split=10, n_estimators=1000\n",
      "[CV 4/5; 68/72] END bootstrap=True, max_depth=139, max_features=3, min_samples_leaf=5, min_samples_split=10, n_estimators=1000; total time=  12.2s\n",
      "[CV 5/5; 68/72] START bootstrap=True, max_depth=139, max_features=3, min_samples_leaf=5, min_samples_split=10, n_estimators=1000\n",
      "[CV 5/5; 68/72] END bootstrap=True, max_depth=139, max_features=3, min_samples_leaf=5, min_samples_split=10, n_estimators=1000; total time=  11.6s\n",
      "[CV 1/5; 69/72] START bootstrap=True, max_depth=139, max_features=3, min_samples_leaf=5, min_samples_split=12, n_estimators=100\n",
      "[CV 1/5; 69/72] END bootstrap=True, max_depth=139, max_features=3, min_samples_leaf=5, min_samples_split=12, n_estimators=100; total time=   7.5s\n",
      "[CV 2/5; 69/72] START bootstrap=True, max_depth=139, max_features=3, min_samples_leaf=5, min_samples_split=12, n_estimators=100\n",
      "[CV 2/5; 69/72] END bootstrap=True, max_depth=139, max_features=3, min_samples_leaf=5, min_samples_split=12, n_estimators=100; total time=   7.4s\n",
      "[CV 3/5; 69/72] START bootstrap=True, max_depth=139, max_features=3, min_samples_leaf=5, min_samples_split=12, n_estimators=100\n",
      "[CV 3/5; 69/72] END bootstrap=True, max_depth=139, max_features=3, min_samples_leaf=5, min_samples_split=12, n_estimators=100; total time=   7.7s\n",
      "[CV 4/5; 69/72] START bootstrap=True, max_depth=139, max_features=3, min_samples_leaf=5, min_samples_split=12, n_estimators=100\n",
      "[CV 4/5; 69/72] END bootstrap=True, max_depth=139, max_features=3, min_samples_leaf=5, min_samples_split=12, n_estimators=100; total time=   7.4s\n",
      "[CV 5/5; 69/72] START bootstrap=True, max_depth=139, max_features=3, min_samples_leaf=5, min_samples_split=12, n_estimators=100\n",
      "[CV 5/5; 69/72] END bootstrap=True, max_depth=139, max_features=3, min_samples_leaf=5, min_samples_split=12, n_estimators=100; total time=   7.4s\n",
      "[CV 1/5; 70/72] START bootstrap=True, max_depth=139, max_features=3, min_samples_leaf=5, min_samples_split=12, n_estimators=200\n",
      "[CV 1/5; 70/72] END bootstrap=True, max_depth=139, max_features=3, min_samples_leaf=5, min_samples_split=12, n_estimators=200; total time=   7.8s\n",
      "[CV 2/5; 70/72] START bootstrap=True, max_depth=139, max_features=3, min_samples_leaf=5, min_samples_split=12, n_estimators=200\n",
      "[CV 2/5; 70/72] END bootstrap=True, max_depth=139, max_features=3, min_samples_leaf=5, min_samples_split=12, n_estimators=200; total time=   8.1s\n",
      "[CV 3/5; 70/72] START bootstrap=True, max_depth=139, max_features=3, min_samples_leaf=5, min_samples_split=12, n_estimators=200\n",
      "[CV 3/5; 70/72] END bootstrap=True, max_depth=139, max_features=3, min_samples_leaf=5, min_samples_split=12, n_estimators=200; total time=   7.9s\n",
      "[CV 4/5; 70/72] START bootstrap=True, max_depth=139, max_features=3, min_samples_leaf=5, min_samples_split=12, n_estimators=200\n",
      "[CV 4/5; 70/72] END bootstrap=True, max_depth=139, max_features=3, min_samples_leaf=5, min_samples_split=12, n_estimators=200; total time=   8.1s\n",
      "[CV 5/5; 70/72] START bootstrap=True, max_depth=139, max_features=3, min_samples_leaf=5, min_samples_split=12, n_estimators=200\n",
      "[CV 5/5; 70/72] END bootstrap=True, max_depth=139, max_features=3, min_samples_leaf=5, min_samples_split=12, n_estimators=200; total time=   7.8s\n",
      "[CV 1/5; 71/72] START bootstrap=True, max_depth=139, max_features=3, min_samples_leaf=5, min_samples_split=12, n_estimators=300\n",
      "[CV 1/5; 71/72] END bootstrap=True, max_depth=139, max_features=3, min_samples_leaf=5, min_samples_split=12, n_estimators=300; total time=   8.4s\n",
      "[CV 2/5; 71/72] START bootstrap=True, max_depth=139, max_features=3, min_samples_leaf=5, min_samples_split=12, n_estimators=300\n",
      "[CV 2/5; 71/72] END bootstrap=True, max_depth=139, max_features=3, min_samples_leaf=5, min_samples_split=12, n_estimators=300; total time=   8.5s\n",
      "[CV 3/5; 71/72] START bootstrap=True, max_depth=139, max_features=3, min_samples_leaf=5, min_samples_split=12, n_estimators=300\n",
      "[CV 3/5; 71/72] END bootstrap=True, max_depth=139, max_features=3, min_samples_leaf=5, min_samples_split=12, n_estimators=300; total time=   8.3s\n",
      "[CV 4/5; 71/72] START bootstrap=True, max_depth=139, max_features=3, min_samples_leaf=5, min_samples_split=12, n_estimators=300\n",
      "[CV 4/5; 71/72] END bootstrap=True, max_depth=139, max_features=3, min_samples_leaf=5, min_samples_split=12, n_estimators=300; total time=   8.4s\n",
      "[CV 5/5; 71/72] START bootstrap=True, max_depth=139, max_features=3, min_samples_leaf=5, min_samples_split=12, n_estimators=300\n",
      "[CV 5/5; 71/72] END bootstrap=True, max_depth=139, max_features=3, min_samples_leaf=5, min_samples_split=12, n_estimators=300; total time=   9.0s\n",
      "[CV 1/5; 72/72] START bootstrap=True, max_depth=139, max_features=3, min_samples_leaf=5, min_samples_split=12, n_estimators=1000\n",
      "[CV 1/5; 72/72] END bootstrap=True, max_depth=139, max_features=3, min_samples_leaf=5, min_samples_split=12, n_estimators=1000; total time=  12.7s\n",
      "[CV 2/5; 72/72] START bootstrap=True, max_depth=139, max_features=3, min_samples_leaf=5, min_samples_split=12, n_estimators=1000\n",
      "[CV 2/5; 72/72] END bootstrap=True, max_depth=139, max_features=3, min_samples_leaf=5, min_samples_split=12, n_estimators=1000; total time=  12.7s\n",
      "[CV 3/5; 72/72] START bootstrap=True, max_depth=139, max_features=3, min_samples_leaf=5, min_samples_split=12, n_estimators=1000\n",
      "[CV 3/5; 72/72] END bootstrap=True, max_depth=139, max_features=3, min_samples_leaf=5, min_samples_split=12, n_estimators=1000; total time=  12.3s\n",
      "[CV 4/5; 72/72] START bootstrap=True, max_depth=139, max_features=3, min_samples_leaf=5, min_samples_split=12, n_estimators=1000\n",
      "[CV 4/5; 72/72] END bootstrap=True, max_depth=139, max_features=3, min_samples_leaf=5, min_samples_split=12, n_estimators=1000; total time=  11.6s\n",
      "[CV 5/5; 72/72] START bootstrap=True, max_depth=139, max_features=3, min_samples_leaf=5, min_samples_split=12, n_estimators=1000\n",
      "[CV 5/5; 72/72] END bootstrap=True, max_depth=139, max_features=3, min_samples_leaf=5, min_samples_split=12, n_estimators=1000; total time=  12.0s\n",
      "RandomForestClassifier(max_depth=139, max_features=2, min_samples_leaf=3,\n",
      "                       min_samples_split=8)\n"
     ]
    }
   ],
   "source": [
    "# Create the parameter grid based on the results of random search \n",
    "parameters = {\n",
    "    'bootstrap': [True],\n",
    "    'max_depth': [139],\n",
    "    'max_features': [2, 3],\n",
    "    'min_samples_leaf': [3, 4, 5],\n",
    "    'min_samples_split': [8, 10, 12],\n",
    "    'n_estimators': [100, 200, 300, 1000]\n",
    "}\n",
    "\n",
    "# Create the model\n",
    "rf_model = RandomForestClassifier()\n",
    "\n",
    "# Best model\n",
    "opt_model_rf = GridSearchCV(rf_model, parameters,  scoring='accuracy', verbose=10)\n",
    "\n",
    "# Fit the model\n",
    "opt_model_rf.fit(trainX, trainy)\n",
    "\n",
    "print (opt_model_rf.best_estimator_)"
   ]
  },
  {
   "cell_type": "markdown",
   "metadata": {},
   "source": [
    "### Create and fit the model CLASS 0"
   ]
  },
  {
   "cell_type": "code",
   "execution_count": 20,
   "metadata": {},
   "outputs": [
    {
     "data": {
      "text/plain": [
       "RandomForestClassifier(max_depth=139)"
      ]
     },
     "execution_count": 20,
     "metadata": {},
     "output_type": "execute_result"
    }
   ],
   "source": [
    "# Create model with best parameters\n",
    "model = RandomForestClassifier(max_depth=139)#, max_features=2, min_samples_leaf=3,min_samples_split=8)\n",
    "\n",
    "# Fit the best model\n",
    "model.fit(trainX,trainy)\n",
    "model"
   ]
  },
  {
   "cell_type": "code",
   "execution_count": 21,
   "metadata": {},
   "outputs": [
    {
     "name": "stdout",
     "output_type": "stream",
     "text": [
      "Predicted     -1    1    All\n",
      "Actual                      \n",
      "-1         12816   16  12832\n",
      "1           1720  321   2041\n",
      "All        14536  337  14873\n"
     ]
    }
   ],
   "source": [
    "predictions = model.predict(testX)# Calculate the absolute errors\n",
    "\n",
    "# Confusion matrix\n",
    "confusion = pd.crosstab(testy,predictions, rownames=['Actual'], colnames=['Predicted'], margins=True)\n",
    "print(confusion )"
   ]
  },
  {
   "cell_type": "code",
   "execution_count": 22,
   "metadata": {},
   "outputs": [
    {
     "name": "stdout",
     "output_type": "stream",
     "text": [
      "Accuracy:0.883278\n"
     ]
    }
   ],
   "source": [
    "# Accuracy\n",
    "score = accuracy_score(testy,predictions)\n",
    "print('Accuracy:{0:f}'.format(score))"
   ]
  },
  {
   "cell_type": "code",
   "execution_count": 23,
   "metadata": {},
   "outputs": [
    {
     "name": "stdout",
     "output_type": "stream",
     "text": [
      "              precision    recall  f1-score   support\n",
      "\n",
      "          -1       0.88      1.00      0.94     12832\n",
      "           1       0.95      0.16      0.27      2041\n",
      "\n",
      "    accuracy                           0.88     14873\n",
      "   macro avg       0.92      0.58      0.60     14873\n",
      "weighted avg       0.89      0.88      0.85     14873\n",
      "\n"
     ]
    }
   ],
   "source": [
    "# Report\n",
    "print(classification_report(testy,predictions))"
   ]
  },
  {
   "cell_type": "markdown",
   "metadata": {},
   "source": [
    "#### Read FTR"
   ]
  },
  {
   "cell_type": "code",
   "execution_count": 24,
   "metadata": {},
   "outputs": [],
   "source": [
    "#read ftr\n",
    "data2 = pd.read_feather( '../output/dataframe1.ftr', columns=None, use_threads=True)"
   ]
  },
  {
   "cell_type": "code",
   "execution_count": 25,
   "metadata": {},
   "outputs": [
    {
     "data": {
      "text/html": [
       "<div>\n",
       "<style scoped>\n",
       "    .dataframe tbody tr th:only-of-type {\n",
       "        vertical-align: middle;\n",
       "    }\n",
       "\n",
       "    .dataframe tbody tr th {\n",
       "        vertical-align: top;\n",
       "    }\n",
       "\n",
       "    .dataframe thead th {\n",
       "        text-align: right;\n",
       "    }\n",
       "</style>\n",
       "<table border=\"1\" class=\"dataframe\">\n",
       "  <thead>\n",
       "    <tr style=\"text-align: right;\">\n",
       "      <th></th>\n",
       "      <th>like</th>\n",
       "      <th>good</th>\n",
       "      <th>one</th>\n",
       "      <th>taste</th>\n",
       "      <th>great</th>\n",
       "      <th>coffee</th>\n",
       "      <th>flavor</th>\n",
       "      <th>tea</th>\n",
       "      <th>product</th>\n",
       "      <th>love</th>\n",
       "      <th>...</th>\n",
       "      <th>maxes</th>\n",
       "      <th>pliers</th>\n",
       "      <th>offshoot</th>\n",
       "      <th>distinctively</th>\n",
       "      <th>brilliance</th>\n",
       "      <th>auspices</th>\n",
       "      <th>synonyms</th>\n",
       "      <th>cowards</th>\n",
       "      <th>lofted</th>\n",
       "      <th>parachute</th>\n",
       "    </tr>\n",
       "  </thead>\n",
       "  <tbody>\n",
       "    <tr>\n",
       "      <th>0</th>\n",
       "      <td>0</td>\n",
       "      <td>0</td>\n",
       "      <td>0</td>\n",
       "      <td>0</td>\n",
       "      <td>0</td>\n",
       "      <td>0</td>\n",
       "      <td>0</td>\n",
       "      <td>0</td>\n",
       "      <td>0</td>\n",
       "      <td>0</td>\n",
       "      <td>...</td>\n",
       "      <td>0</td>\n",
       "      <td>0</td>\n",
       "      <td>0</td>\n",
       "      <td>0</td>\n",
       "      <td>0</td>\n",
       "      <td>0</td>\n",
       "      <td>0</td>\n",
       "      <td>0</td>\n",
       "      <td>0</td>\n",
       "      <td>0</td>\n",
       "    </tr>\n",
       "    <tr>\n",
       "      <th>1</th>\n",
       "      <td>0</td>\n",
       "      <td>0</td>\n",
       "      <td>0</td>\n",
       "      <td>3</td>\n",
       "      <td>0</td>\n",
       "      <td>0</td>\n",
       "      <td>0</td>\n",
       "      <td>0</td>\n",
       "      <td>1</td>\n",
       "      <td>1</td>\n",
       "      <td>...</td>\n",
       "      <td>0</td>\n",
       "      <td>0</td>\n",
       "      <td>0</td>\n",
       "      <td>0</td>\n",
       "      <td>0</td>\n",
       "      <td>0</td>\n",
       "      <td>0</td>\n",
       "      <td>0</td>\n",
       "      <td>0</td>\n",
       "      <td>0</td>\n",
       "    </tr>\n",
       "    <tr>\n",
       "      <th>2</th>\n",
       "      <td>0</td>\n",
       "      <td>1</td>\n",
       "      <td>0</td>\n",
       "      <td>0</td>\n",
       "      <td>0</td>\n",
       "      <td>0</td>\n",
       "      <td>0</td>\n",
       "      <td>3</td>\n",
       "      <td>1</td>\n",
       "      <td>1</td>\n",
       "      <td>...</td>\n",
       "      <td>0</td>\n",
       "      <td>0</td>\n",
       "      <td>0</td>\n",
       "      <td>0</td>\n",
       "      <td>0</td>\n",
       "      <td>0</td>\n",
       "      <td>0</td>\n",
       "      <td>0</td>\n",
       "      <td>0</td>\n",
       "      <td>0</td>\n",
       "    </tr>\n",
       "    <tr>\n",
       "      <th>3</th>\n",
       "      <td>0</td>\n",
       "      <td>0</td>\n",
       "      <td>0</td>\n",
       "      <td>0</td>\n",
       "      <td>1</td>\n",
       "      <td>0</td>\n",
       "      <td>0</td>\n",
       "      <td>0</td>\n",
       "      <td>1</td>\n",
       "      <td>0</td>\n",
       "      <td>...</td>\n",
       "      <td>0</td>\n",
       "      <td>0</td>\n",
       "      <td>0</td>\n",
       "      <td>0</td>\n",
       "      <td>0</td>\n",
       "      <td>0</td>\n",
       "      <td>0</td>\n",
       "      <td>0</td>\n",
       "      <td>0</td>\n",
       "      <td>0</td>\n",
       "    </tr>\n",
       "    <tr>\n",
       "      <th>4</th>\n",
       "      <td>2</td>\n",
       "      <td>0</td>\n",
       "      <td>0</td>\n",
       "      <td>0</td>\n",
       "      <td>2</td>\n",
       "      <td>1</td>\n",
       "      <td>0</td>\n",
       "      <td>0</td>\n",
       "      <td>0</td>\n",
       "      <td>0</td>\n",
       "      <td>...</td>\n",
       "      <td>0</td>\n",
       "      <td>0</td>\n",
       "      <td>0</td>\n",
       "      <td>0</td>\n",
       "      <td>0</td>\n",
       "      <td>0</td>\n",
       "      <td>0</td>\n",
       "      <td>0</td>\n",
       "      <td>0</td>\n",
       "      <td>0</td>\n",
       "    </tr>\n",
       "  </tbody>\n",
       "</table>\n",
       "<p>5 rows × 26701 columns</p>\n",
       "</div>"
      ],
      "text/plain": [
       "   like  good  one  taste  great  coffee  flavor  tea  product  love  ...  \\\n",
       "0     0     0    0      0      0       0       0    0        0     0  ...   \n",
       "1     0     0    0      3      0       0       0    0        1     1  ...   \n",
       "2     0     1    0      0      0       0       0    3        1     1  ...   \n",
       "3     0     0    0      0      1       0       0    0        1     0  ...   \n",
       "4     2     0    0      0      2       1       0    0        0     0  ...   \n",
       "\n",
       "   maxes  pliers  offshoot  distinctively  brilliance  auspices  synonyms  \\\n",
       "0      0       0         0              0           0         0         0   \n",
       "1      0       0         0              0           0         0         0   \n",
       "2      0       0         0              0           0         0         0   \n",
       "3      0       0         0              0           0         0         0   \n",
       "4      0       0         0              0           0         0         0   \n",
       "\n",
       "   cowards  lofted  parachute  \n",
       "0        0       0          0  \n",
       "1        0       0          0  \n",
       "2        0       0          0  \n",
       "3        0       0          0  \n",
       "4        0       0          0  \n",
       "\n",
       "[5 rows x 26701 columns]"
      ]
     },
     "execution_count": 25,
     "metadata": {},
     "output_type": "execute_result"
    }
   ],
   "source": [
    "data2_y = data2['polarityClass']\n",
    "data2 = data2.drop(columns=['polarityClass']) \n",
    "data2.head()"
   ]
  },
  {
   "cell_type": "code",
   "execution_count": 26,
   "metadata": {},
   "outputs": [],
   "source": [
    "train2X, test2X, train2y, test2y = train_test_split(data2, data2_y, test_size=0.3, random_state=2)"
   ]
  },
  {
   "cell_type": "code",
   "execution_count": 27,
   "metadata": {},
   "outputs": [
    {
     "name": "stdout",
     "output_type": "stream",
     "text": [
      "int8\n"
     ]
    }
   ],
   "source": [
    "train2y = train2y.astype('int8')\n",
    "print(train2y.dtypes)"
   ]
  },
  {
   "cell_type": "code",
   "execution_count": 28,
   "metadata": {},
   "outputs": [
    {
     "name": "stdout",
     "output_type": "stream",
     "text": [
      "int8\n"
     ]
    }
   ],
   "source": [
    "test2y = test2y.astype('int8')\n",
    "print(test2y.dtypes)"
   ]
  },
  {
   "cell_type": "code",
   "execution_count": 29,
   "metadata": {},
   "outputs": [],
   "source": [
    "train2y[train2y != 1] = -1 #anomaly\n",
    "train2y[train2y == 1] = 1 #normal\n",
    "\n",
    "test2y[test2y != 1] = -1 #anomaly\n",
    "test2y[test2y == 1] = 1 #normal"
   ]
  },
  {
   "cell_type": "code",
   "execution_count": 30,
   "metadata": {},
   "outputs": [
    {
     "data": {
      "text/plain": [
       "-1    13773\n",
       " 1     1100\n",
       "Name: polarityClass, dtype: int64"
      ]
     },
     "execution_count": 30,
     "metadata": {},
     "output_type": "execute_result"
    }
   ],
   "source": [
    "test2y.value_counts()"
   ]
  },
  {
   "cell_type": "code",
   "execution_count": 31,
   "metadata": {},
   "outputs": [
    {
     "data": {
      "text/plain": [
       "-1    32193\n",
       " 1     2510\n",
       "Name: polarityClass, dtype: int64"
      ]
     },
     "execution_count": 31,
     "metadata": {},
     "output_type": "execute_result"
    }
   ],
   "source": [
    "train2y.value_counts()"
   ]
  },
  {
   "cell_type": "markdown",
   "metadata": {},
   "source": [
    "### Create and fit the model CLASS 1"
   ]
  },
  {
   "cell_type": "code",
   "execution_count": 32,
   "metadata": {},
   "outputs": [
    {
     "data": {
      "text/plain": [
       "RandomForestClassifier(max_depth=139)"
      ]
     },
     "execution_count": 32,
     "metadata": {},
     "output_type": "execute_result"
    }
   ],
   "source": [
    "# Create model with best parameters\n",
    "model = RandomForestClassifier(max_depth=139)\n",
    "\n",
    "# Fit the best model\n",
    "model.fit(train2X,train2y)\n",
    "model"
   ]
  },
  {
   "cell_type": "code",
   "execution_count": 33,
   "metadata": {},
   "outputs": [
    {
     "name": "stdout",
     "output_type": "stream",
     "text": [
      "Predicted     -1   1    All\n",
      "Actual                     \n",
      "-1         13772   1  13773\n",
      "1           1047  53   1100\n",
      "All        14819  54  14873\n"
     ]
    }
   ],
   "source": [
    "predictions = model.predict(test2X)# Calculate the absolute errors\n",
    "\n",
    "# Confusion matrix\n",
    "confusion = pd.crosstab(test2y,predictions, rownames=['Actual'], colnames=['Predicted'], margins=True)\n",
    "print(confusion )"
   ]
  },
  {
   "cell_type": "code",
   "execution_count": 34,
   "metadata": {},
   "outputs": [
    {
     "name": "stdout",
     "output_type": "stream",
     "text": [
      "Accuracy:0.929537\n"
     ]
    }
   ],
   "source": [
    "# Accuracy\n",
    "score = accuracy_score(test2y,predictions)\n",
    "print('Accuracy:{0:f}'.format(score))"
   ]
  },
  {
   "cell_type": "code",
   "execution_count": 35,
   "metadata": {},
   "outputs": [
    {
     "name": "stdout",
     "output_type": "stream",
     "text": [
      "              precision    recall  f1-score   support\n",
      "\n",
      "          -1       0.93      1.00      0.96     13773\n",
      "           1       0.98      0.05      0.09      1100\n",
      "\n",
      "    accuracy                           0.93     14873\n",
      "   macro avg       0.96      0.52      0.53     14873\n",
      "weighted avg       0.93      0.93      0.90     14873\n",
      "\n"
     ]
    }
   ],
   "source": [
    "# Report\n",
    "print(classification_report(test2y,predictions))"
   ]
  },
  {
   "cell_type": "markdown",
   "metadata": {},
   "source": [
    "#### Read FTR"
   ]
  },
  {
   "cell_type": "code",
   "execution_count": 36,
   "metadata": {},
   "outputs": [],
   "source": [
    "#read ftr\n",
    "data3 = pd.read_feather( '../output/dataframe1.ftr', columns=None, use_threads=True)"
   ]
  },
  {
   "cell_type": "code",
   "execution_count": 37,
   "metadata": {},
   "outputs": [
    {
     "data": {
      "text/html": [
       "<div>\n",
       "<style scoped>\n",
       "    .dataframe tbody tr th:only-of-type {\n",
       "        vertical-align: middle;\n",
       "    }\n",
       "\n",
       "    .dataframe tbody tr th {\n",
       "        vertical-align: top;\n",
       "    }\n",
       "\n",
       "    .dataframe thead th {\n",
       "        text-align: right;\n",
       "    }\n",
       "</style>\n",
       "<table border=\"1\" class=\"dataframe\">\n",
       "  <thead>\n",
       "    <tr style=\"text-align: right;\">\n",
       "      <th></th>\n",
       "      <th>like</th>\n",
       "      <th>good</th>\n",
       "      <th>one</th>\n",
       "      <th>taste</th>\n",
       "      <th>great</th>\n",
       "      <th>coffee</th>\n",
       "      <th>flavor</th>\n",
       "      <th>tea</th>\n",
       "      <th>product</th>\n",
       "      <th>love</th>\n",
       "      <th>...</th>\n",
       "      <th>maxes</th>\n",
       "      <th>pliers</th>\n",
       "      <th>offshoot</th>\n",
       "      <th>distinctively</th>\n",
       "      <th>brilliance</th>\n",
       "      <th>auspices</th>\n",
       "      <th>synonyms</th>\n",
       "      <th>cowards</th>\n",
       "      <th>lofted</th>\n",
       "      <th>parachute</th>\n",
       "    </tr>\n",
       "  </thead>\n",
       "  <tbody>\n",
       "    <tr>\n",
       "      <th>0</th>\n",
       "      <td>0</td>\n",
       "      <td>0</td>\n",
       "      <td>0</td>\n",
       "      <td>0</td>\n",
       "      <td>0</td>\n",
       "      <td>0</td>\n",
       "      <td>0</td>\n",
       "      <td>0</td>\n",
       "      <td>0</td>\n",
       "      <td>0</td>\n",
       "      <td>...</td>\n",
       "      <td>0</td>\n",
       "      <td>0</td>\n",
       "      <td>0</td>\n",
       "      <td>0</td>\n",
       "      <td>0</td>\n",
       "      <td>0</td>\n",
       "      <td>0</td>\n",
       "      <td>0</td>\n",
       "      <td>0</td>\n",
       "      <td>0</td>\n",
       "    </tr>\n",
       "    <tr>\n",
       "      <th>1</th>\n",
       "      <td>0</td>\n",
       "      <td>0</td>\n",
       "      <td>0</td>\n",
       "      <td>3</td>\n",
       "      <td>0</td>\n",
       "      <td>0</td>\n",
       "      <td>0</td>\n",
       "      <td>0</td>\n",
       "      <td>1</td>\n",
       "      <td>1</td>\n",
       "      <td>...</td>\n",
       "      <td>0</td>\n",
       "      <td>0</td>\n",
       "      <td>0</td>\n",
       "      <td>0</td>\n",
       "      <td>0</td>\n",
       "      <td>0</td>\n",
       "      <td>0</td>\n",
       "      <td>0</td>\n",
       "      <td>0</td>\n",
       "      <td>0</td>\n",
       "    </tr>\n",
       "    <tr>\n",
       "      <th>2</th>\n",
       "      <td>0</td>\n",
       "      <td>1</td>\n",
       "      <td>0</td>\n",
       "      <td>0</td>\n",
       "      <td>0</td>\n",
       "      <td>0</td>\n",
       "      <td>0</td>\n",
       "      <td>3</td>\n",
       "      <td>1</td>\n",
       "      <td>1</td>\n",
       "      <td>...</td>\n",
       "      <td>0</td>\n",
       "      <td>0</td>\n",
       "      <td>0</td>\n",
       "      <td>0</td>\n",
       "      <td>0</td>\n",
       "      <td>0</td>\n",
       "      <td>0</td>\n",
       "      <td>0</td>\n",
       "      <td>0</td>\n",
       "      <td>0</td>\n",
       "    </tr>\n",
       "    <tr>\n",
       "      <th>3</th>\n",
       "      <td>0</td>\n",
       "      <td>0</td>\n",
       "      <td>0</td>\n",
       "      <td>0</td>\n",
       "      <td>1</td>\n",
       "      <td>0</td>\n",
       "      <td>0</td>\n",
       "      <td>0</td>\n",
       "      <td>1</td>\n",
       "      <td>0</td>\n",
       "      <td>...</td>\n",
       "      <td>0</td>\n",
       "      <td>0</td>\n",
       "      <td>0</td>\n",
       "      <td>0</td>\n",
       "      <td>0</td>\n",
       "      <td>0</td>\n",
       "      <td>0</td>\n",
       "      <td>0</td>\n",
       "      <td>0</td>\n",
       "      <td>0</td>\n",
       "    </tr>\n",
       "    <tr>\n",
       "      <th>4</th>\n",
       "      <td>2</td>\n",
       "      <td>0</td>\n",
       "      <td>0</td>\n",
       "      <td>0</td>\n",
       "      <td>2</td>\n",
       "      <td>1</td>\n",
       "      <td>0</td>\n",
       "      <td>0</td>\n",
       "      <td>0</td>\n",
       "      <td>0</td>\n",
       "      <td>...</td>\n",
       "      <td>0</td>\n",
       "      <td>0</td>\n",
       "      <td>0</td>\n",
       "      <td>0</td>\n",
       "      <td>0</td>\n",
       "      <td>0</td>\n",
       "      <td>0</td>\n",
       "      <td>0</td>\n",
       "      <td>0</td>\n",
       "      <td>0</td>\n",
       "    </tr>\n",
       "  </tbody>\n",
       "</table>\n",
       "<p>5 rows × 26701 columns</p>\n",
       "</div>"
      ],
      "text/plain": [
       "   like  good  one  taste  great  coffee  flavor  tea  product  love  ...  \\\n",
       "0     0     0    0      0      0       0       0    0        0     0  ...   \n",
       "1     0     0    0      3      0       0       0    0        1     1  ...   \n",
       "2     0     1    0      0      0       0       0    3        1     1  ...   \n",
       "3     0     0    0      0      1       0       0    0        1     0  ...   \n",
       "4     2     0    0      0      2       1       0    0        0     0  ...   \n",
       "\n",
       "   maxes  pliers  offshoot  distinctively  brilliance  auspices  synonyms  \\\n",
       "0      0       0         0              0           0         0         0   \n",
       "1      0       0         0              0           0         0         0   \n",
       "2      0       0         0              0           0         0         0   \n",
       "3      0       0         0              0           0         0         0   \n",
       "4      0       0         0              0           0         0         0   \n",
       "\n",
       "   cowards  lofted  parachute  \n",
       "0        0       0          0  \n",
       "1        0       0          0  \n",
       "2        0       0          0  \n",
       "3        0       0          0  \n",
       "4        0       0          0  \n",
       "\n",
       "[5 rows x 26701 columns]"
      ]
     },
     "execution_count": 37,
     "metadata": {},
     "output_type": "execute_result"
    }
   ],
   "source": [
    "data3_y = data3['polarityClass']\n",
    "data3 = data3.drop(columns=['polarityClass']) \n",
    "data3.head()"
   ]
  },
  {
   "cell_type": "code",
   "execution_count": 38,
   "metadata": {},
   "outputs": [],
   "source": [
    "train3X, test3X, train3y, test3y = train_test_split(data3, data3_y, test_size=0.3, random_state=2)"
   ]
  },
  {
   "cell_type": "code",
   "execution_count": 39,
   "metadata": {},
   "outputs": [
    {
     "name": "stdout",
     "output_type": "stream",
     "text": [
      "int8\n"
     ]
    }
   ],
   "source": [
    "train3y = train3y.astype('int8')\n",
    "print(train3y.dtypes)"
   ]
  },
  {
   "cell_type": "code",
   "execution_count": 40,
   "metadata": {},
   "outputs": [
    {
     "name": "stdout",
     "output_type": "stream",
     "text": [
      "int8\n"
     ]
    }
   ],
   "source": [
    "test3y = test3y.astype('int8')\n",
    "print(test3y.dtypes)"
   ]
  },
  {
   "cell_type": "code",
   "execution_count": 41,
   "metadata": {},
   "outputs": [],
   "source": [
    "train3y[train3y != 2] = -1 #anomaly\n",
    "train3y[train3y == 2] = 1 #normal\n",
    "\n",
    "test3y[test3y != 2] = -1 #anomaly\n",
    "test3y[test3y == 2] = 1 #normal"
   ]
  },
  {
   "cell_type": "code",
   "execution_count": 42,
   "metadata": {},
   "outputs": [
    {
     "data": {
      "text/plain": [
       " 1    11732\n",
       "-1     3141\n",
       "Name: polarityClass, dtype: int64"
      ]
     },
     "execution_count": 42,
     "metadata": {},
     "output_type": "execute_result"
    }
   ],
   "source": [
    "test3y.value_counts()"
   ]
  },
  {
   "cell_type": "code",
   "execution_count": 43,
   "metadata": {},
   "outputs": [
    {
     "data": {
      "text/plain": [
       " 1    27511\n",
       "-1     7192\n",
       "Name: polarityClass, dtype: int64"
      ]
     },
     "execution_count": 43,
     "metadata": {},
     "output_type": "execute_result"
    }
   ],
   "source": [
    "train3y.value_counts()"
   ]
  },
  {
   "cell_type": "markdown",
   "metadata": {},
   "source": [
    "### Create and fit the model CLASS 2"
   ]
  },
  {
   "cell_type": "code",
   "execution_count": 44,
   "metadata": {},
   "outputs": [
    {
     "data": {
      "text/plain": [
       "RandomForestClassifier(max_depth=139)"
      ]
     },
     "execution_count": 44,
     "metadata": {},
     "output_type": "execute_result"
    }
   ],
   "source": [
    "# Create model with best parameters\n",
    "model = RandomForestClassifier(max_depth=139)\n",
    "\n",
    "# Fit the best model\n",
    "model.fit(train3X,train3y)\n",
    "model"
   ]
  },
  {
   "cell_type": "code",
   "execution_count": 45,
   "metadata": {},
   "outputs": [
    {
     "name": "stdout",
     "output_type": "stream",
     "text": [
      "Predicted   -1      1    All\n",
      "Actual                      \n",
      "-1         752   2389   3141\n",
      "1           59  11673  11732\n",
      "All        811  14062  14873\n"
     ]
    }
   ],
   "source": [
    "predictions = model.predict(test3X)# Calculate the absolute errors\n",
    "\n",
    "# Confusion matrix\n",
    "confusion = pd.crosstab(test3y,predictions, rownames=['Actual'], colnames=['Predicted'], margins=True)\n",
    "print(confusion )"
   ]
  },
  {
   "cell_type": "code",
   "execution_count": 46,
   "metadata": {},
   "outputs": [
    {
     "name": "stdout",
     "output_type": "stream",
     "text": [
      "Accuracy:0.835406\n"
     ]
    }
   ],
   "source": [
    "# Accuracy\n",
    "score = accuracy_score(test3y,predictions)\n",
    "print('Accuracy:{0:f}'.format(score))"
   ]
  },
  {
   "cell_type": "code",
   "execution_count": 47,
   "metadata": {},
   "outputs": [
    {
     "name": "stdout",
     "output_type": "stream",
     "text": [
      "              precision    recall  f1-score   support\n",
      "\n",
      "          -1       0.93      0.24      0.38      3141\n",
      "           1       0.83      0.99      0.91     11732\n",
      "\n",
      "    accuracy                           0.84     14873\n",
      "   macro avg       0.88      0.62      0.64     14873\n",
      "weighted avg       0.85      0.84      0.79     14873\n",
      "\n"
     ]
    }
   ],
   "source": [
    "# Report\n",
    "print(classification_report(test3y,predictions))"
   ]
  },
  {
   "cell_type": "code",
   "execution_count": null,
   "metadata": {},
   "outputs": [],
   "source": []
  }
 ],
 "metadata": {
  "kernelspec": {
   "display_name": "Python 3",
   "language": "python",
   "name": "python3"
  },
  "language_info": {
   "codemirror_mode": {
    "name": "ipython",
    "version": 3
   },
   "file_extension": ".py",
   "mimetype": "text/x-python",
   "name": "python",
   "nbconvert_exporter": "python",
   "pygments_lexer": "ipython3",
   "version": "3.8.3"
  }
 },
 "nbformat": 4,
 "nbformat_minor": 4
}
