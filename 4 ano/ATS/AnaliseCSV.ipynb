{
 "cells": [
  {
   "cell_type": "code",
   "execution_count": 10,
   "metadata": {},
   "outputs": [],
   "source": [
    "import pandas as pd\n",
    "import matplotlib.pyplot as plt\n",
    "import seaborn as sns\n",
    "import numpy as np\n",
    "import os"
   ]
  },
  {
   "cell_type": "code",
   "execution_count": 16,
   "metadata": {},
   "outputs": [],
   "source": [
    "df = pd.read_csv(\"statistics.csv\", sep = '\\s*,\\s*', engine = 'python')\n",
    "\n",
    "if not os.path.exists(\"../images\"):\n",
    "    os.makedirs(\"../images\")"
   ]
  },
  {
   "cell_type": "code",
   "execution_count": 3,
   "metadata": {},
   "outputs": [
    {
     "data": {
      "text/html": [
       "<div>\n",
       "<style scoped>\n",
       "    .dataframe tbody tr th:only-of-type {\n",
       "        vertical-align: middle;\n",
       "    }\n",
       "\n",
       "    .dataframe tbody tr th {\n",
       "        vertical-align: top;\n",
       "    }\n",
       "\n",
       "    .dataframe thead th {\n",
       "        text-align: right;\n",
       "    }\n",
       "</style>\n",
       "<table border=\"1\" class=\"dataframe\">\n",
       "  <thead>\n",
       "    <tr style=\"text-align: right;\">\n",
       "      <th></th>\n",
       "      <th>name</th>\n",
       "      <th>bugs</th>\n",
       "      <th>security_hotspots</th>\n",
       "      <th>code_smells</th>\n",
       "      <th>complexity</th>\n",
       "      <th>duplicated_lines</th>\n",
       "      <th>debt</th>\n",
       "    </tr>\n",
       "  </thead>\n",
       "  <tbody>\n",
       "    <tr>\n",
       "      <th>0</th>\n",
       "      <td>p0</td>\n",
       "      <td>17</td>\n",
       "      <td>2</td>\n",
       "      <td>448</td>\n",
       "      <td>596</td>\n",
       "      <td>3.4</td>\n",
       "      <td>4062</td>\n",
       "    </tr>\n",
       "    <tr>\n",
       "      <th>1</th>\n",
       "      <td>p1</td>\n",
       "      <td>16</td>\n",
       "      <td>6</td>\n",
       "      <td>320</td>\n",
       "      <td>607</td>\n",
       "      <td>0.0</td>\n",
       "      <td>3347</td>\n",
       "    </tr>\n",
       "    <tr>\n",
       "      <th>2</th>\n",
       "      <td>p2</td>\n",
       "      <td>6</td>\n",
       "      <td>4</td>\n",
       "      <td>340</td>\n",
       "      <td>360</td>\n",
       "      <td>8.2</td>\n",
       "      <td>3177</td>\n",
       "    </tr>\n",
       "    <tr>\n",
       "      <th>3</th>\n",
       "      <td>p3</td>\n",
       "      <td>15</td>\n",
       "      <td>5</td>\n",
       "      <td>318</td>\n",
       "      <td>434</td>\n",
       "      <td>0.0</td>\n",
       "      <td>3034</td>\n",
       "    </tr>\n",
       "    <tr>\n",
       "      <th>4</th>\n",
       "      <td>p4</td>\n",
       "      <td>13</td>\n",
       "      <td>0</td>\n",
       "      <td>328</td>\n",
       "      <td>393</td>\n",
       "      <td>4.6</td>\n",
       "      <td>3039</td>\n",
       "    </tr>\n",
       "  </tbody>\n",
       "</table>\n",
       "</div>"
      ],
      "text/plain": [
       "  name  bugs  security_hotspots  code_smells  complexity  duplicated_lines  \\\n",
       "0   p0    17                  2          448         596               3.4   \n",
       "1   p1    16                  6          320         607               0.0   \n",
       "2   p2     6                  4          340         360               8.2   \n",
       "3   p3    15                  5          318         434               0.0   \n",
       "4   p4    13                  0          328         393               4.6   \n",
       "\n",
       "   debt  \n",
       "0  4062  \n",
       "1  3347  \n",
       "2  3177  \n",
       "3  3034  \n",
       "4  3039  "
      ]
     },
     "execution_count": 3,
     "metadata": {},
     "output_type": "execute_result"
    }
   ],
   "source": [
    "df.head()"
   ]
  },
  {
   "cell_type": "code",
   "execution_count": 4,
   "metadata": {},
   "outputs": [
    {
     "name": "stdout",
     "output_type": "stream",
     "text": [
      "<class 'pandas.core.frame.DataFrame'>\n",
      "RangeIndex: 95 entries, 0 to 94\n",
      "Data columns (total 7 columns):\n",
      " #   Column             Non-Null Count  Dtype  \n",
      "---  ------             --------------  -----  \n",
      " 0   name               95 non-null     object \n",
      " 1   bugs               95 non-null     int64  \n",
      " 2   security_hotspots  95 non-null     int64  \n",
      " 3   code_smells        95 non-null     int64  \n",
      " 4   complexity         95 non-null     int64  \n",
      " 5   duplicated_lines   95 non-null     float64\n",
      " 6   debt               95 non-null     int64  \n",
      "dtypes: float64(1), int64(5), object(1)\n",
      "memory usage: 5.3+ KB\n"
     ]
    }
   ],
   "source": [
    "df.info()"
   ]
  },
  {
   "cell_type": "code",
   "execution_count": 5,
   "metadata": {},
   "outputs": [
    {
     "data": {
      "text/html": [
       "<div>\n",
       "<style scoped>\n",
       "    .dataframe tbody tr th:only-of-type {\n",
       "        vertical-align: middle;\n",
       "    }\n",
       "\n",
       "    .dataframe tbody tr th {\n",
       "        vertical-align: top;\n",
       "    }\n",
       "\n",
       "    .dataframe thead th {\n",
       "        text-align: right;\n",
       "    }\n",
       "</style>\n",
       "<table border=\"1\" class=\"dataframe\">\n",
       "  <thead>\n",
       "    <tr style=\"text-align: right;\">\n",
       "      <th></th>\n",
       "      <th>bugs</th>\n",
       "      <th>security_hotspots</th>\n",
       "      <th>code_smells</th>\n",
       "      <th>complexity</th>\n",
       "      <th>duplicated_lines</th>\n",
       "      <th>debt</th>\n",
       "    </tr>\n",
       "  </thead>\n",
       "  <tbody>\n",
       "    <tr>\n",
       "      <th>count</th>\n",
       "      <td>95.000000</td>\n",
       "      <td>95.000000</td>\n",
       "      <td>95.000000</td>\n",
       "      <td>95.000000</td>\n",
       "      <td>95.000000</td>\n",
       "      <td>95.000000</td>\n",
       "    </tr>\n",
       "    <tr>\n",
       "      <th>mean</th>\n",
       "      <td>18.842105</td>\n",
       "      <td>8.115789</td>\n",
       "      <td>366.694737</td>\n",
       "      <td>701.168421</td>\n",
       "      <td>5.540000</td>\n",
       "      <td>3696.421053</td>\n",
       "    </tr>\n",
       "    <tr>\n",
       "      <th>std</th>\n",
       "      <td>11.259337</td>\n",
       "      <td>13.834787</td>\n",
       "      <td>153.865240</td>\n",
       "      <td>824.341912</td>\n",
       "      <td>6.201825</td>\n",
       "      <td>1509.230701</td>\n",
       "    </tr>\n",
       "    <tr>\n",
       "      <th>min</th>\n",
       "      <td>0.000000</td>\n",
       "      <td>0.000000</td>\n",
       "      <td>151.000000</td>\n",
       "      <td>169.000000</td>\n",
       "      <td>0.000000</td>\n",
       "      <td>1349.000000</td>\n",
       "    </tr>\n",
       "    <tr>\n",
       "      <th>25%</th>\n",
       "      <td>12.500000</td>\n",
       "      <td>2.000000</td>\n",
       "      <td>255.500000</td>\n",
       "      <td>511.000000</td>\n",
       "      <td>2.500000</td>\n",
       "      <td>2632.500000</td>\n",
       "    </tr>\n",
       "    <tr>\n",
       "      <th>50%</th>\n",
       "      <td>17.000000</td>\n",
       "      <td>5.000000</td>\n",
       "      <td>325.000000</td>\n",
       "      <td>607.000000</td>\n",
       "      <td>4.200000</td>\n",
       "      <td>3463.000000</td>\n",
       "    </tr>\n",
       "    <tr>\n",
       "      <th>75%</th>\n",
       "      <td>22.500000</td>\n",
       "      <td>9.500000</td>\n",
       "      <td>442.000000</td>\n",
       "      <td>736.000000</td>\n",
       "      <td>6.950000</td>\n",
       "      <td>4439.500000</td>\n",
       "    </tr>\n",
       "    <tr>\n",
       "      <th>max</th>\n",
       "      <td>74.000000</td>\n",
       "      <td>123.000000</td>\n",
       "      <td>836.000000</td>\n",
       "      <td>8441.000000</td>\n",
       "      <td>50.600000</td>\n",
       "      <td>8170.000000</td>\n",
       "    </tr>\n",
       "  </tbody>\n",
       "</table>\n",
       "</div>"
      ],
      "text/plain": [
       "            bugs  security_hotspots  code_smells   complexity  \\\n",
       "count  95.000000          95.000000    95.000000    95.000000   \n",
       "mean   18.842105           8.115789   366.694737   701.168421   \n",
       "std    11.259337          13.834787   153.865240   824.341912   \n",
       "min     0.000000           0.000000   151.000000   169.000000   \n",
       "25%    12.500000           2.000000   255.500000   511.000000   \n",
       "50%    17.000000           5.000000   325.000000   607.000000   \n",
       "75%    22.500000           9.500000   442.000000   736.000000   \n",
       "max    74.000000         123.000000   836.000000  8441.000000   \n",
       "\n",
       "       duplicated_lines         debt  \n",
       "count         95.000000    95.000000  \n",
       "mean           5.540000  3696.421053  \n",
       "std            6.201825  1509.230701  \n",
       "min            0.000000  1349.000000  \n",
       "25%            2.500000  2632.500000  \n",
       "50%            4.200000  3463.000000  \n",
       "75%            6.950000  4439.500000  \n",
       "max           50.600000  8170.000000  "
      ]
     },
     "execution_count": 5,
     "metadata": {},
     "output_type": "execute_result"
    }
   ],
   "source": [
    "df.describe()"
   ]
  },
  {
   "cell_type": "code",
   "execution_count": 19,
   "metadata": {},
   "outputs": [
    {
     "data": {
      "image/png": "[encoded data removed]",
      "text/plain": [
       "<Figure size 360x360 with 1 Axes>"
      ]
     },
     "metadata": {
      "needs_background": "light"
     },
     "output_type": "display_data"
    }
   ],
   "source": [
    "sns.displot(df, x = 'bugs',kde=True,color ='red')\n",
    "plt.savefig('../images/hist_age.pdf', format='pdf')\n"
   ]
  },
  {
   "cell_type": "code",
   "execution_count": 17,
   "metadata": {},
   "outputs": [
    {
     "data": {
      "image/png": "[encoded data removed]",
      "text/plain": [
       "<Figure size 720x576 with 2 Axes>"
      ]
     },
     "metadata": {
      "needs_background": "light"
     },
     "output_type": "display_data"
    }
   ],
   "source": [
    "#correlação entre variáveis.\n",
    "corr = df.corr(\"kendall\")\n",
    "plt.figure(figsize = (10,8))\n",
    "sns_plot = sns.heatmap(corr[(corr >= 0.01) | (corr <= -0.01)], \n",
    "                       cmap = 'flare', vmax = 1, vmin = -1.0, linewidths = 0.1, annot = True, annot_kws = {\"size\":8}, square = True)\n",
    "\n",
    "plt.gcf().subplots_adjust(bottom=0.20)\n",
    "plt.gcf().subplots_adjust(left=0.20)\n",
    "plt.savefig('../images/heatmap.eps', format='eps')\n"
   ]
  },
  {
   "cell_type": "code",
   "execution_count": 23,
   "metadata": {},
   "outputs": [
    {
     "data": {
      "text/plain": [
       "<Figure size 3600x720 with 0 Axes>"
      ]
     },
     "metadata": {},
     "output_type": "display_data"
    },
    {
     "data": {
      "image/png": "[encoded data removed]",
      "text/plain": [
       "<Figure size 2219.25x360 with 1 Axes>"
      ]
     },
     "metadata": {
      "needs_background": "light"
     },
     "output_type": "display_data"
    }
   ],
   "source": [
    "\n",
    "#sns.displot(x = 'name', y='code_smells', data = df)\n",
    "df[\"debt_days\"]=(df[\"debt\"] / 60)/8\n",
    "plt.figure(figsize = (50,10))\n",
    "sns.relplot(\n",
    "    data=df,\n",
    "    x=\"name\", y=\"code_smells\",hue=\"debt_days\",aspect=6,palette=\"rocket_r\"\n",
    ")\n",
    "plt.gcf().subplots_adjust(left=0.05)\n",
    "plt.gcf().subplots_adjust(bottom=0.20)\n",
    "\n",
    "plt.savefig('../images/code_smells_Time.eps', format='eps')\n",
    "\n",
    "\n"
   ]
  },
  {
   "cell_type": "code",
   "execution_count": 24,
   "metadata": {},
   "outputs": [
    {
     "data": {
      "text/html": [
       "<div>\n",
       "<style scoped>\n",
       "    .dataframe tbody tr th:only-of-type {\n",
       "        vertical-align: middle;\n",
       "    }\n",
       "\n",
       "    .dataframe tbody tr th {\n",
       "        vertical-align: top;\n",
       "    }\n",
       "\n",
       "    .dataframe thead th {\n",
       "        text-align: right;\n",
       "    }\n",
       "</style>\n",
       "<table border=\"1\" class=\"dataframe\">\n",
       "  <thead>\n",
       "    <tr style=\"text-align: right;\">\n",
       "      <th></th>\n",
       "      <th>bugs</th>\n",
       "      <th>security_hotspots</th>\n",
       "      <th>code_smells</th>\n",
       "      <th>complexity</th>\n",
       "      <th>duplicated_lines</th>\n",
       "      <th>debt</th>\n",
       "      <th>debt_days</th>\n",
       "    </tr>\n",
       "  </thead>\n",
       "  <tbody>\n",
       "    <tr>\n",
       "      <th>count</th>\n",
       "      <td>95.000000</td>\n",
       "      <td>95.000000</td>\n",
       "      <td>95.000000</td>\n",
       "      <td>95.000000</td>\n",
       "      <td>95.000000</td>\n",
       "      <td>95.000000</td>\n",
       "      <td>95.000000</td>\n",
       "    </tr>\n",
       "    <tr>\n",
       "      <th>mean</th>\n",
       "      <td>18.842105</td>\n",
       "      <td>8.115789</td>\n",
       "      <td>366.694737</td>\n",
       "      <td>701.168421</td>\n",
       "      <td>5.540000</td>\n",
       "      <td>3696.421053</td>\n",
       "      <td>7.700877</td>\n",
       "    </tr>\n",
       "    <tr>\n",
       "      <th>std</th>\n",
       "      <td>11.259337</td>\n",
       "      <td>13.834787</td>\n",
       "      <td>153.865240</td>\n",
       "      <td>824.341912</td>\n",
       "      <td>6.201825</td>\n",
       "      <td>1509.230701</td>\n",
       "      <td>3.144231</td>\n",
       "    </tr>\n",
       "    <tr>\n",
       "      <th>min</th>\n",
       "      <td>0.000000</td>\n",
       "      <td>0.000000</td>\n",
       "      <td>151.000000</td>\n",
       "      <td>169.000000</td>\n",
       "      <td>0.000000</td>\n",
       "      <td>1349.000000</td>\n",
       "      <td>2.810417</td>\n",
       "    </tr>\n",
       "    <tr>\n",
       "      <th>25%</th>\n",
       "      <td>12.500000</td>\n",
       "      <td>2.000000</td>\n",
       "      <td>255.500000</td>\n",
       "      <td>511.000000</td>\n",
       "      <td>2.500000</td>\n",
       "      <td>2632.500000</td>\n",
       "      <td>5.484375</td>\n",
       "    </tr>\n",
       "    <tr>\n",
       "      <th>50%</th>\n",
       "      <td>17.000000</td>\n",
       "      <td>5.000000</td>\n",
       "      <td>325.000000</td>\n",
       "      <td>607.000000</td>\n",
       "      <td>4.200000</td>\n",
       "      <td>3463.000000</td>\n",
       "      <td>7.214583</td>\n",
       "    </tr>\n",
       "    <tr>\n",
       "      <th>75%</th>\n",
       "      <td>22.500000</td>\n",
       "      <td>9.500000</td>\n",
       "      <td>442.000000</td>\n",
       "      <td>736.000000</td>\n",
       "      <td>6.950000</td>\n",
       "      <td>4439.500000</td>\n",
       "      <td>9.248958</td>\n",
       "    </tr>\n",
       "    <tr>\n",
       "      <th>max</th>\n",
       "      <td>74.000000</td>\n",
       "      <td>123.000000</td>\n",
       "      <td>836.000000</td>\n",
       "      <td>8441.000000</td>\n",
       "      <td>50.600000</td>\n",
       "      <td>8170.000000</td>\n",
       "      <td>17.020833</td>\n",
       "    </tr>\n",
       "  </tbody>\n",
       "</table>\n",
       "</div>"
      ],
      "text/plain": [
       "            bugs  security_hotspots  code_smells   complexity  \\\n",
       "count  95.000000          95.000000    95.000000    95.000000   \n",
       "mean   18.842105           8.115789   366.694737   701.168421   \n",
       "std    11.259337          13.834787   153.865240   824.341912   \n",
       "min     0.000000           0.000000   151.000000   169.000000   \n",
       "25%    12.500000           2.000000   255.500000   511.000000   \n",
       "50%    17.000000           5.000000   325.000000   607.000000   \n",
       "75%    22.500000           9.500000   442.000000   736.000000   \n",
       "max    74.000000         123.000000   836.000000  8441.000000   \n",
       "\n",
       "       duplicated_lines         debt  debt_days  \n",
       "count         95.000000    95.000000  95.000000  \n",
       "mean           5.540000  3696.421053   7.700877  \n",
       "std            6.201825  1509.230701   3.144231  \n",
       "min            0.000000  1349.000000   2.810417  \n",
       "25%            2.500000  2632.500000   5.484375  \n",
       "50%            4.200000  3463.000000   7.214583  \n",
       "75%            6.950000  4439.500000   9.248958  \n",
       "max           50.600000  8170.000000  17.020833  "
      ]
     },
     "execution_count": 24,
     "metadata": {},
     "output_type": "execute_result"
    }
   ],
   "source": [
    "df.describe()"
   ]
  },
  {
   "cell_type": "code",
   "execution_count": null,
   "metadata": {},
   "outputs": [],
   "source": []
  }
 ],
 "metadata": {
  "kernelspec": {
   "display_name": "Python 3",
   "language": "python",
   "name": "python3"
  },
  "language_info": {
   "codemirror_mode": {
    "name": "ipython",
    "version": 3
   },
   "file_extension": ".py",
   "mimetype": "text/x-python",
   "name": "python",
   "nbconvert_exporter": "python",
   "pygments_lexer": "ipython3",
   "version": "3.8.5"
  }
 },
 "nbformat": 4,
 "nbformat_minor": 4
}
